{
 "cells": [
  {
   "cell_type": "code",
   "execution_count": 1,
   "metadata": {},
   "outputs": [],
   "source": [
    "import sklearn as sk\n",
    "import pandas as pd\n",
    "import glob"
   ]
  },
  {
   "cell_type": "code",
   "execution_count": 12,
   "metadata": {},
   "outputs": [],
   "source": [
    "def calculate_goal_dif(home_or_away, home_score, away_score):\n",
    "    if home_or_away == 'HOME':\n",
    "        return home_score - away_score\n",
    "    else:\n",
    "        return away_score - home_score"
   ]
  },
  {
   "cell_type": "code",
   "execution_count": 13,
   "metadata": {},
   "outputs": [],
   "source": [
    "file_path = '/Users/tylerviducic/dev/hockey_analytics/gamescore_model/data/cleaned_data/'\n",
    "files = glob.glob(file_path + '*.csv')\n",
    "df = pd.concat([pd.read_csv(f) for f in files], ignore_index = True)\n",
    "df.drop(columns = ['Unnamed: 0'], inplace = True)"
   ]
  },
  {
   "cell_type": "code",
   "execution_count": 14,
   "metadata": {},
   "outputs": [],
   "source": [
    "df['game_goal_differential'] = df.apply(lambda row: calculate_goal_dif(row['home_or_away'], row['home_score'], row['away_score']), axis = 1)"
   ]
  },
  {
   "cell_type": "code",
   "execution_count": 31,
   "metadata": {},
   "outputs": [
    {
     "name": "stdout",
     "output_type": "stream",
     "text": [
      "playerId                                                | season\n",
      "name                                                    | gameId\n",
      "playerTeam                                              | opposingTeam\n",
      "home_or_away                                            | gameDate\n",
      "position                                                | icetime\n",
      "shifts                                                  | gameScore\n",
      "iceTimeRank                                             | I_F_xOnGoal\n",
      "I_F_xGoals                                              | I_F_xRebounds\n",
      "I_F_xFreeze                                             | I_F_xPlayStopped\n",
      "I_F_xPlayContinuedInZone                                | I_F_xPlayContinuedOutsideZone\n",
      "I_F_flurryAdjustedxGoals                                | I_F_scoreVenueAdjustedxGoals\n",
      "I_F_flurryScoreVenueAdjustedxGoals                      | I_F_primaryAssists\n",
      "I_F_secondaryAssists                                    | I_F_shotsOnGoal\n",
      "I_F_missedShots                                         | I_F_blockedShotAttempts\n",
      "I_F_shotAttempts                                        | I_F_points\n",
      "I_F_goals                                               | I_F_rebounds\n",
      "I_F_reboundGoals                                        | I_F_freeze\n",
      "I_F_playStopped                                         | I_F_playContinuedInZone\n",
      "I_F_playContinuedOutsideZone                            | I_F_savedShotsOnGoal\n",
      "I_F_savedUnblockedShotAttempts                          | penalties\n",
      "I_F_penalityMinutes                                     | I_F_faceOffsWon\n",
      "I_F_hits                                                | I_F_takeaways\n",
      "I_F_giveaways                                           | I_F_lowDangerShots\n",
      "I_F_mediumDangerShots                                   | I_F_highDangerShots\n",
      "I_F_lowDangerxGoals                                     | I_F_mediumDangerxGoals\n",
      "I_F_highDangerxGoals                                    | I_F_lowDangerGoals\n",
      "I_F_mediumDangerGoals                                   | I_F_highDangerGoals\n",
      "I_F_scoreAdjustedShotsAttempts                          | I_F_unblockedShotAttempts\n",
      "I_F_scoreAdjustedUnblockedShotAttempts                  | I_F_dZoneGiveaways\n",
      "I_F_xGoalsFromxReboundsOfShots                          | I_F_xGoalsFromActualReboundsOfShots\n",
      "I_F_reboundxGoals                                       | I_F_xGoals_with_earned_rebounds\n",
      "I_F_xGoals_with_earned_rebounds_scoreAdjusted           | I_F_xGoals_with_earned_rebounds_scoreFlurryAdjusted\n",
      "I_F_shifts                                              | I_F_oZoneShiftStarts\n",
      "I_F_dZoneShiftStarts                                    | I_F_neutralZoneShiftStarts\n",
      "I_F_flyShiftStarts                                      | I_F_oZoneShiftEnds\n",
      "I_F_dZoneShiftEnds                                      | I_F_neutralZoneShiftEnds\n",
      "I_F_flyShiftEnds                                        | faceoffsWon\n",
      "faceoffsLost                                            | timeOnBench\n",
      "penalityMinutes                                         | penalityMinutesDrawn\n",
      "penaltiesDrawn                                          | shotsBlockedByPlayer\n",
      "OnIce_F_xOnGoal                                         | OnIce_F_xGoals\n",
      "OnIce_F_flurryAdjustedxGoals                            | OnIce_F_scoreVenueAdjustedxGoals\n",
      "OnIce_F_flurryScoreVenueAdjustedxGoals                  | OnIce_F_shotsOnGoal\n",
      "OnIce_F_missedShots                                     | OnIce_F_blockedShotAttempts\n",
      "OnIce_F_shotAttempts                                    | OnIce_F_goals\n",
      "OnIce_F_rebounds                                        | OnIce_F_reboundGoals\n",
      "OnIce_F_lowDangerShots                                  | OnIce_F_mediumDangerShots\n",
      "OnIce_F_highDangerShots                                 | OnIce_F_lowDangerxGoals\n",
      "OnIce_F_mediumDangerxGoals                              | OnIce_F_highDangerxGoals\n",
      "OnIce_F_lowDangerGoals                                  | OnIce_F_mediumDangerGoals\n",
      "OnIce_F_highDangerGoals                                 | OnIce_F_scoreAdjustedShotsAttempts\n",
      "OnIce_F_unblockedShotAttempts                           | OnIce_F_scoreAdjustedUnblockedShotAttempts\n",
      "OnIce_F_xGoalsFromxReboundsOfShots                      | OnIce_F_xGoalsFromActualReboundsOfShots\n",
      "OnIce_F_reboundxGoals                                   | OnIce_F_xGoals_with_earned_rebounds\n",
      "OnIce_F_xGoals_with_earned_rebounds_scoreAdjusted       | OnIce_F_xGoals_with_earned_rebounds_scoreFlurryAdjusted\n",
      "OnIce_A_xOnGoal                                         | OnIce_A_xGoals\n",
      "OnIce_A_flurryAdjustedxGoals                            | OnIce_A_scoreVenueAdjustedxGoals\n",
      "OnIce_A_flurryScoreVenueAdjustedxGoals                  | OnIce_A_shotsOnGoal\n",
      "OnIce_A_missedShots                                     | OnIce_A_blockedShotAttempts\n",
      "OnIce_A_shotAttempts                                    | OnIce_A_goals\n",
      "OnIce_A_rebounds                                        | OnIce_A_reboundGoals\n",
      "OnIce_A_lowDangerShots                                  | OnIce_A_mediumDangerShots\n",
      "OnIce_A_highDangerShots                                 | OnIce_A_lowDangerxGoals\n",
      "OnIce_A_mediumDangerxGoals                              | OnIce_A_highDangerxGoals\n",
      "OnIce_A_lowDangerGoals                                  | OnIce_A_mediumDangerGoals\n",
      "OnIce_A_highDangerGoals                                 | OnIce_A_scoreAdjustedShotsAttempts\n",
      "OnIce_A_unblockedShotAttempts                           | OnIce_A_scoreAdjustedUnblockedShotAttempts\n",
      "OnIce_A_xGoalsFromxReboundsOfShots                      | OnIce_A_xGoalsFromActualReboundsOfShots\n",
      "OnIce_A_reboundxGoals                                   | OnIce_A_xGoals_with_earned_rebounds\n",
      "OnIce_A_xGoals_with_earned_rebounds_scoreAdjusted       | OnIce_A_xGoals_with_earned_rebounds_scoreFlurryAdjusted\n",
      "home_score                                              | away_score\n",
      "game_goal_differential                                  | "
     ]
    }
   ],
   "source": [
    "longest = 0\n",
    "for column in df.columns:\n",
    "    if len(column) > longest:\n",
    "        longest = len(column)\n",
    "\n",
    "for i, column in enumerate(df.columns):\n",
    "    end = ' ' * (longest - len(column)) + ' | '\n",
    "    if (i+1) % 2 == 0:\n",
    "        end = '\\n'\n",
    "    print(column, end = end)"
   ]
  },
  {
   "cell_type": "code",
   "execution_count": null,
   "metadata": {},
   "outputs": [],
   "source": [
    "features = ['iceTimeRank', 'I_F_primaryAssists', 'I_F_secondaryAssists', 'I_F_goals', 'I_F_hits', 'I_F_takeaways', \n",
    "            'I_F_dZoneGiveaways', 'shotsBlockedByPlayer','faceoffsWon', 'faceoffsLost', 'I_F_penaltyMinutes', \n",
    "            'penaltiesDrawn', 'OnIce_F_xGoals', 'OnIce_F_goals', 'OnIce_A_xGoals', 'OnIce_A_goals']\n",
    "target = ['game_goal_differential']"
   ]
  }
 ],
 "metadata": {
  "kernelspec": {
   "display_name": "hockey",
   "language": "python",
   "name": "python3"
  },
  "language_info": {
   "codemirror_mode": {
    "name": "ipython",
    "version": 3
   },
   "file_extension": ".py",
   "mimetype": "text/x-python",
   "name": "python",
   "nbconvert_exporter": "python",
   "pygments_lexer": "ipython3",
   "version": "3.10.10"
  }
 },
 "nbformat": 4,
 "nbformat_minor": 2
}
