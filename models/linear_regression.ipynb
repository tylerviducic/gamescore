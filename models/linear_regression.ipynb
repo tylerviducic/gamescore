{
 "cells": [
  {
   "cell_type": "code",
   "execution_count": 1,
   "metadata": {},
   "outputs": [],
   "source": [
    "import sklearn as sk\n",
    "import pandas as pd\n",
    "import glob"
   ]
  },
  {
   "cell_type": "code",
   "execution_count": 2,
   "metadata": {},
   "outputs": [],
   "source": [
    "def calculate_goal_dif(home_or_away, home_score, away_score):\n",
    "    if home_or_away == 'HOME':\n",
    "        return home_score - away_score\n",
    "    else:\n",
    "        return away_score - home_score"
   ]
  },
  {
   "cell_type": "code",
   "execution_count": 16,
   "metadata": {},
   "outputs": [],
   "source": [
    "file_path = '/Users/tylerviducic/dev/hockey_analytics/gamescore_model/data/cleaned_data/'\n",
    "files = glob.glob(file_path + '*.csv')\n",
    "df = pd.concat([pd.read_csv(f) for f in files], ignore_index = True)\n",
    "df.drop(columns = ['Unnamed: 0'], inplace = True)"
   ]
  },
  {
   "cell_type": "code",
   "execution_count": 17,
   "metadata": {},
   "outputs": [],
   "source": [
    "df['game_goal_differential'] = df.apply(lambda row: calculate_goal_dif(row['home_or_away'], row['home_score'], row['away_score']), axis = 1)"
   ]
  },
  {
   "cell_type": "code",
   "execution_count": 18,
   "metadata": {},
   "outputs": [],
   "source": [
    "df = df.sample(frac = 1).reset_index(drop = True)"
   ]
  },
  {
   "cell_type": "code",
   "execution_count": 19,
   "metadata": {},
   "outputs": [
    {
     "name": "stdout",
     "output_type": "stream",
     "text": [
      "playerId                                                | season\n",
      "name                                                    | gameId\n",
      "playerTeam                                              | opposingTeam\n",
      "home_or_away                                            | gameDate\n",
      "position                                                | icetime\n",
      "shifts                                                  | gameScore\n",
      "iceTimeRank                                             | I_F_xOnGoal\n",
      "I_F_xGoals                                              | I_F_xRebounds\n",
      "I_F_xFreeze                                             | I_F_xPlayStopped\n",
      "I_F_xPlayContinuedInZone                                | I_F_xPlayContinuedOutsideZone\n",
      "I_F_flurryAdjustedxGoals                                | I_F_scoreVenueAdjustedxGoals\n",
      "I_F_flurryScoreVenueAdjustedxGoals                      | I_F_primaryAssists\n",
      "I_F_secondaryAssists                                    | I_F_shotsOnGoal\n",
      "I_F_missedShots                                         | I_F_blockedShotAttempts\n",
      "I_F_shotAttempts                                        | I_F_points\n",
      "I_F_goals                                               | I_F_rebounds\n",
      "I_F_reboundGoals                                        | I_F_freeze\n",
      "I_F_playStopped                                         | I_F_playContinuedInZone\n",
      "I_F_playContinuedOutsideZone                            | I_F_savedShotsOnGoal\n",
      "I_F_savedUnblockedShotAttempts                          | penalties\n",
      "I_F_penalityMinutes                                     | I_F_faceOffsWon\n",
      "I_F_hits                                                | I_F_takeaways\n",
      "I_F_giveaways                                           | I_F_lowDangerShots\n",
      "I_F_mediumDangerShots                                   | I_F_highDangerShots\n",
      "I_F_lowDangerxGoals                                     | I_F_mediumDangerxGoals\n",
      "I_F_highDangerxGoals                                    | I_F_lowDangerGoals\n",
      "I_F_mediumDangerGoals                                   | I_F_highDangerGoals\n",
      "I_F_scoreAdjustedShotsAttempts                          | I_F_unblockedShotAttempts\n",
      "I_F_scoreAdjustedUnblockedShotAttempts                  | I_F_dZoneGiveaways\n",
      "I_F_xGoalsFromxReboundsOfShots                          | I_F_xGoalsFromActualReboundsOfShots\n",
      "I_F_reboundxGoals                                       | I_F_xGoals_with_earned_rebounds\n",
      "I_F_xGoals_with_earned_rebounds_scoreAdjusted           | I_F_xGoals_with_earned_rebounds_scoreFlurryAdjusted\n",
      "I_F_shifts                                              | I_F_oZoneShiftStarts\n",
      "I_F_dZoneShiftStarts                                    | I_F_neutralZoneShiftStarts\n",
      "I_F_flyShiftStarts                                      | I_F_oZoneShiftEnds\n",
      "I_F_dZoneShiftEnds                                      | I_F_neutralZoneShiftEnds\n",
      "I_F_flyShiftEnds                                        | faceoffsWon\n",
      "faceoffsLost                                            | timeOnBench\n",
      "penalityMinutes                                         | penalityMinutesDrawn\n",
      "penaltiesDrawn                                          | shotsBlockedByPlayer\n",
      "OnIce_F_xOnGoal                                         | OnIce_F_xGoals\n",
      "OnIce_F_flurryAdjustedxGoals                            | OnIce_F_scoreVenueAdjustedxGoals\n",
      "OnIce_F_flurryScoreVenueAdjustedxGoals                  | OnIce_F_shotsOnGoal\n",
      "OnIce_F_missedShots                                     | OnIce_F_blockedShotAttempts\n",
      "OnIce_F_shotAttempts                                    | OnIce_F_goals\n",
      "OnIce_F_rebounds                                        | OnIce_F_reboundGoals\n",
      "OnIce_F_lowDangerShots                                  | OnIce_F_mediumDangerShots\n",
      "OnIce_F_highDangerShots                                 | OnIce_F_lowDangerxGoals\n",
      "OnIce_F_mediumDangerxGoals                              | OnIce_F_highDangerxGoals\n",
      "OnIce_F_lowDangerGoals                                  | OnIce_F_mediumDangerGoals\n",
      "OnIce_F_highDangerGoals                                 | OnIce_F_scoreAdjustedShotsAttempts\n",
      "OnIce_F_unblockedShotAttempts                           | OnIce_F_scoreAdjustedUnblockedShotAttempts\n",
      "OnIce_F_xGoalsFromxReboundsOfShots                      | OnIce_F_xGoalsFromActualReboundsOfShots\n",
      "OnIce_F_reboundxGoals                                   | OnIce_F_xGoals_with_earned_rebounds\n",
      "OnIce_F_xGoals_with_earned_rebounds_scoreAdjusted       | OnIce_F_xGoals_with_earned_rebounds_scoreFlurryAdjusted\n",
      "OnIce_A_xOnGoal                                         | OnIce_A_xGoals\n",
      "OnIce_A_flurryAdjustedxGoals                            | OnIce_A_scoreVenueAdjustedxGoals\n",
      "OnIce_A_flurryScoreVenueAdjustedxGoals                  | OnIce_A_shotsOnGoal\n",
      "OnIce_A_missedShots                                     | OnIce_A_blockedShotAttempts\n",
      "OnIce_A_shotAttempts                                    | OnIce_A_goals\n",
      "OnIce_A_rebounds                                        | OnIce_A_reboundGoals\n",
      "OnIce_A_lowDangerShots                                  | OnIce_A_mediumDangerShots\n",
      "OnIce_A_highDangerShots                                 | OnIce_A_lowDangerxGoals\n",
      "OnIce_A_mediumDangerxGoals                              | OnIce_A_highDangerxGoals\n",
      "OnIce_A_lowDangerGoals                                  | OnIce_A_mediumDangerGoals\n",
      "OnIce_A_highDangerGoals                                 | OnIce_A_scoreAdjustedShotsAttempts\n",
      "OnIce_A_unblockedShotAttempts                           | OnIce_A_scoreAdjustedUnblockedShotAttempts\n",
      "OnIce_A_xGoalsFromxReboundsOfShots                      | OnIce_A_xGoalsFromActualReboundsOfShots\n",
      "OnIce_A_reboundxGoals                                   | OnIce_A_xGoals_with_earned_rebounds\n",
      "OnIce_A_xGoals_with_earned_rebounds_scoreAdjusted       | OnIce_A_xGoals_with_earned_rebounds_scoreFlurryAdjusted\n",
      "home_score                                              | away_score\n",
      "game_goal_differential                                  | "
     ]
    }
   ],
   "source": [
    "longest = 0\n",
    "for column in df.columns:\n",
    "    if len(column) > longest:\n",
    "        longest = len(column)\n",
    "\n",
    "for i, column in enumerate(df.columns):\n",
    "    end = ' ' * (longest - len(column)) + ' | '\n",
    "    if (i+1) % 2 == 0:\n",
    "        end = '\\n'\n",
    "    print(column, end = end)"
   ]
  },
  {
   "cell_type": "code",
   "execution_count": 20,
   "metadata": {},
   "outputs": [],
   "source": [
    "features = ['iceTimeRank', 'I_F_primaryAssists', 'I_F_secondaryAssists', 'I_F_goals', 'I_F_hits', 'I_F_takeaways', \n",
    "            'I_F_dZoneGiveaways', 'shotsBlockedByPlayer','faceoffsWon', 'faceoffsLost', 'I_F_penalityMinutes', \n",
    "            'penaltiesDrawn', 'OnIce_F_xGoals', 'OnIce_F_goals', 'OnIce_A_xGoals', 'OnIce_A_goals']\n",
    "target = ['game_goal_differential']\n"
   ]
  },
  {
   "cell_type": "code",
   "execution_count": 21,
   "metadata": {},
   "outputs": [],
   "source": [
    "\n",
    "from sklearn.model_selection import train_test_split\n",
    "\n",
    "x_train, x_test, y_train, y_test = train_test_split(df[features], df[target], test_size = 0.2)\n"
   ]
  },
  {
   "cell_type": "code",
   "execution_count": 22,
   "metadata": {},
   "outputs": [],
   "source": [
    "from sklearn import linear_model\n",
    "\n",
    "model = linear_model.LinearRegression()"
   ]
  },
  {
   "cell_type": "code",
   "execution_count": 23,
   "metadata": {},
   "outputs": [
    {
     "data": {
      "text/html": [
       "<style>#sk-container-id-2 {color: black;background-color: white;}#sk-container-id-2 pre{padding: 0;}#sk-container-id-2 div.sk-toggleable {background-color: white;}#sk-container-id-2 label.sk-toggleable__label {cursor: pointer;display: block;width: 100%;margin-bottom: 0;padding: 0.3em;box-sizing: border-box;text-align: center;}#sk-container-id-2 label.sk-toggleable__label-arrow:before {content: \"▸\";float: left;margin-right: 0.25em;color: #696969;}#sk-container-id-2 label.sk-toggleable__label-arrow:hover:before {color: black;}#sk-container-id-2 div.sk-estimator:hover label.sk-toggleable__label-arrow:before {color: black;}#sk-container-id-2 div.sk-toggleable__content {max-height: 0;max-width: 0;overflow: hidden;text-align: left;background-color: #f0f8ff;}#sk-container-id-2 div.sk-toggleable__content pre {margin: 0.2em;color: black;border-radius: 0.25em;background-color: #f0f8ff;}#sk-container-id-2 input.sk-toggleable__control:checked~div.sk-toggleable__content {max-height: 200px;max-width: 100%;overflow: auto;}#sk-container-id-2 input.sk-toggleable__control:checked~label.sk-toggleable__label-arrow:before {content: \"▾\";}#sk-container-id-2 div.sk-estimator input.sk-toggleable__control:checked~label.sk-toggleable__label {background-color: #d4ebff;}#sk-container-id-2 div.sk-label input.sk-toggleable__control:checked~label.sk-toggleable__label {background-color: #d4ebff;}#sk-container-id-2 input.sk-hidden--visually {border: 0;clip: rect(1px 1px 1px 1px);clip: rect(1px, 1px, 1px, 1px);height: 1px;margin: -1px;overflow: hidden;padding: 0;position: absolute;width: 1px;}#sk-container-id-2 div.sk-estimator {font-family: monospace;background-color: #f0f8ff;border: 1px dotted black;border-radius: 0.25em;box-sizing: border-box;margin-bottom: 0.5em;}#sk-container-id-2 div.sk-estimator:hover {background-color: #d4ebff;}#sk-container-id-2 div.sk-parallel-item::after {content: \"\";width: 100%;border-bottom: 1px solid gray;flex-grow: 1;}#sk-container-id-2 div.sk-label:hover label.sk-toggleable__label {background-color: #d4ebff;}#sk-container-id-2 div.sk-serial::before {content: \"\";position: absolute;border-left: 1px solid gray;box-sizing: border-box;top: 0;bottom: 0;left: 50%;z-index: 0;}#sk-container-id-2 div.sk-serial {display: flex;flex-direction: column;align-items: center;background-color: white;padding-right: 0.2em;padding-left: 0.2em;position: relative;}#sk-container-id-2 div.sk-item {position: relative;z-index: 1;}#sk-container-id-2 div.sk-parallel {display: flex;align-items: stretch;justify-content: center;background-color: white;position: relative;}#sk-container-id-2 div.sk-item::before, #sk-container-id-2 div.sk-parallel-item::before {content: \"\";position: absolute;border-left: 1px solid gray;box-sizing: border-box;top: 0;bottom: 0;left: 50%;z-index: -1;}#sk-container-id-2 div.sk-parallel-item {display: flex;flex-direction: column;z-index: 1;position: relative;background-color: white;}#sk-container-id-2 div.sk-parallel-item:first-child::after {align-self: flex-end;width: 50%;}#sk-container-id-2 div.sk-parallel-item:last-child::after {align-self: flex-start;width: 50%;}#sk-container-id-2 div.sk-parallel-item:only-child::after {width: 0;}#sk-container-id-2 div.sk-dashed-wrapped {border: 1px dashed gray;margin: 0 0.4em 0.5em 0.4em;box-sizing: border-box;padding-bottom: 0.4em;background-color: white;}#sk-container-id-2 div.sk-label label {font-family: monospace;font-weight: bold;display: inline-block;line-height: 1.2em;}#sk-container-id-2 div.sk-label-container {text-align: center;}#sk-container-id-2 div.sk-container {/* jupyter's `normalize.less` sets `[hidden] { display: none; }` but bootstrap.min.css set `[hidden] { display: none !important; }` so we also need the `!important` here to be able to override the default hidden behavior on the sphinx rendered scikit-learn.org. See: https://github.com/scikit-learn/scikit-learn/issues/21755 */display: inline-block !important;position: relative;}#sk-container-id-2 div.sk-text-repr-fallback {display: none;}</style><div id=\"sk-container-id-2\" class=\"sk-top-container\"><div class=\"sk-text-repr-fallback\"><pre>LinearRegression()</pre><b>In a Jupyter environment, please rerun this cell to show the HTML representation or trust the notebook. <br />On GitHub, the HTML representation is unable to render, please try loading this page with nbviewer.org.</b></div><div class=\"sk-container\" hidden><div class=\"sk-item\"><div class=\"sk-estimator sk-toggleable\"><input class=\"sk-toggleable__control sk-hidden--visually\" id=\"sk-estimator-id-2\" type=\"checkbox\" checked><label for=\"sk-estimator-id-2\" class=\"sk-toggleable__label sk-toggleable__label-arrow\">LinearRegression</label><div class=\"sk-toggleable__content\"><pre>LinearRegression()</pre></div></div></div></div></div>"
      ],
      "text/plain": [
       "LinearRegression()"
      ]
     },
     "execution_count": 23,
     "metadata": {},
     "output_type": "execute_result"
    }
   ],
   "source": [
    "model.fit(x_train, y_train)"
   ]
  },
  {
   "cell_type": "code",
   "execution_count": 24,
   "metadata": {},
   "outputs": [
    {
     "name": "stdout",
     "output_type": "stream",
     "text": [
      "16\n",
      "coeficcients: \n",
      "iceTimeRank: 0.035527668608758764\n",
      "I_F_primaryAssists: 0.44793536872343276\n",
      "I_F_secondaryAssists: 0.4690085878827579\n",
      "I_F_goals: 0.4601027380248033\n",
      "I_F_hits: -0.03318778238079951\n",
      "I_F_takeaways: 0.07268891672766946\n",
      "I_F_dZoneGiveaways: 0.04870647191082887\n",
      "shotsBlockedByPlayer: 0.1244882689319765\n",
      "faceoffsWon: 0.007530787922081278\n",
      "faceoffsLost: -0.01828666532868575\n",
      "I_F_penalityMinutes: -0.01454264211256473\n",
      "penaltiesDrawn: 0.011854260376789699\n",
      "OnIce_F_xGoals: -0.1443101315080474\n",
      "OnIce_F_goals: 0.7349116416497683\n",
      "OnIce_A_xGoals: 0.10479149876051994\n",
      "OnIce_A_goals: -0.9859682891947973\n"
     ]
    }
   ],
   "source": [
    "[print(len(model.coef_[0]))]\n",
    "print(f'coeficcients: ')\n",
    "for feature, coef in zip(features, model.coef_[0]):\n",
    "    print(f'{feature}: {coef}')"
   ]
  },
  {
   "cell_type": "code",
   "execution_count": 25,
   "metadata": {},
   "outputs": [],
   "source": [
    "pred_y = model.predict(x_test)"
   ]
  },
  {
   "cell_type": "code",
   "execution_count": 26,
   "metadata": {},
   "outputs": [
    {
     "name": "stdout",
     "output_type": "stream",
     "text": [
      "MSE: 4.392751765116583\n",
      "R2: 0.1944436502638598\n"
     ]
    }
   ],
   "source": [
    "from sklearn.metrics import mean_squared_error, r2_score\n",
    "\n",
    "print(f'MSE: {mean_squared_error(y_test, pred_y)}')\n",
    "print(f'R2: {r2_score(y_test, pred_y)}')"
   ]
  }
 ],
 "metadata": {
  "kernelspec": {
   "display_name": "hockey",
   "language": "python",
   "name": "python3"
  },
  "language_info": {
   "codemirror_mode": {
    "name": "ipython",
    "version": 3
   },
   "file_extension": ".py",
   "mimetype": "text/x-python",
   "name": "python",
   "nbconvert_exporter": "python",
   "pygments_lexer": "ipython3",
   "version": "3.10.10"
  }
 },
 "nbformat": 4,
 "nbformat_minor": 2
}
