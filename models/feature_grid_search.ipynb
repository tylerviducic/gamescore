{
 "cells": [
  {
   "cell_type": "code",
   "execution_count": 1,
   "metadata": {},
   "outputs": [],
   "source": [
    "import numpy as np\n",
    "import pandas as pd\n"
   ]
  },
  {
   "cell_type": "markdown",
   "metadata": {},
   "source": [
    "## Get Predictibiility of all Stats \n"
   ]
  },
  {
   "cell_type": "code",
   "execution_count": 2,
   "metadata": {},
   "outputs": [],
   "source": [
    "df = pd.read_csv(\n",
    "    '/Users/tylerviducic/dev/hockey_analytics/gamescore_model/data/cleaned_data/whole_season/all_player_games.csv')\n",
    "df.drop(columns=['Unnamed: 0', 'Unnamed: 0.1', 'Unnamed: 0.2'], inplace=True)"
   ]
  },
  {
   "cell_type": "code",
   "execution_count": 3,
   "metadata": {},
   "outputs": [
    {
     "name": "stdout",
     "output_type": "stream",
     "text": [
      "['Unnamed: 0.3', 'playerId', 'season', 'name', 'gameId', 'playerTeam', 'opposingTeam', 'home_or_away', 'gameDate', 'position', 'icetime', 'shifts', 'gameScore', 'iceTimeRank', 'I_F_xOnGoal', 'I_F_xGoals', 'I_F_xRebounds', 'I_F_xFreeze', 'I_F_xPlayStopped', 'I_F_xPlayContinuedInZone', 'I_F_xPlayContinuedOutsideZone', 'I_F_flurryAdjustedxGoals', 'I_F_scoreVenueAdjustedxGoals', 'I_F_flurryScoreVenueAdjustedxGoals', 'I_F_primaryAssists', 'I_F_secondaryAssists', 'I_F_shotsOnGoal', 'I_F_missedShots', 'I_F_blockedShotAttempts', 'I_F_shotAttempts', 'I_F_points', 'I_F_goals', 'I_F_rebounds', 'I_F_reboundGoals', 'I_F_freeze', 'I_F_playStopped', 'I_F_playContinuedInZone', 'I_F_playContinuedOutsideZone', 'I_F_savedShotsOnGoal', 'I_F_savedUnblockedShotAttempts', 'penalties', 'I_F_penalityMinutes', 'I_F_faceOffsWon', 'I_F_hits', 'I_F_takeaways', 'I_F_giveaways', 'I_F_lowDangerShots', 'I_F_mediumDangerShots', 'I_F_highDangerShots', 'I_F_lowDangerxGoals', 'I_F_mediumDangerxGoals', 'I_F_highDangerxGoals', 'I_F_lowDangerGoals', 'I_F_mediumDangerGoals', 'I_F_highDangerGoals', 'I_F_scoreAdjustedShotsAttempts', 'I_F_unblockedShotAttempts', 'I_F_scoreAdjustedUnblockedShotAttempts', 'I_F_dZoneGiveaways', 'I_F_xGoalsFromxReboundsOfShots', 'I_F_xGoalsFromActualReboundsOfShots', 'I_F_reboundxGoals', 'I_F_xGoals_with_earned_rebounds', 'I_F_xGoals_with_earned_rebounds_scoreAdjusted', 'I_F_xGoals_with_earned_rebounds_scoreFlurryAdjusted', 'I_F_shifts', 'I_F_oZoneShiftStarts', 'I_F_dZoneShiftStarts', 'I_F_neutralZoneShiftStarts', 'I_F_flyShiftStarts', 'I_F_oZoneShiftEnds', 'I_F_dZoneShiftEnds', 'I_F_neutralZoneShiftEnds', 'I_F_flyShiftEnds', 'faceoffsWon', 'faceoffsLost', 'timeOnBench', 'penalityMinutes', 'penalityMinutesDrawn', 'penaltiesDrawn', 'shotsBlockedByPlayer', 'OnIce_F_xOnGoal', 'OnIce_F_xGoals', 'OnIce_F_flurryAdjustedxGoals', 'OnIce_F_scoreVenueAdjustedxGoals', 'OnIce_F_flurryScoreVenueAdjustedxGoals', 'OnIce_F_shotsOnGoal', 'OnIce_F_missedShots', 'OnIce_F_blockedShotAttempts', 'OnIce_F_shotAttempts', 'OnIce_F_goals', 'OnIce_F_rebounds', 'OnIce_F_reboundGoals', 'OnIce_F_lowDangerShots', 'OnIce_F_mediumDangerShots', 'OnIce_F_highDangerShots', 'OnIce_F_lowDangerxGoals', 'OnIce_F_mediumDangerxGoals', 'OnIce_F_highDangerxGoals', 'OnIce_F_lowDangerGoals', 'OnIce_F_mediumDangerGoals', 'OnIce_F_highDangerGoals', 'OnIce_F_scoreAdjustedShotsAttempts', 'OnIce_F_unblockedShotAttempts', 'OnIce_F_scoreAdjustedUnblockedShotAttempts', 'OnIce_F_xGoalsFromxReboundsOfShots', 'OnIce_F_xGoalsFromActualReboundsOfShots', 'OnIce_F_reboundxGoals', 'OnIce_F_xGoals_with_earned_rebounds', 'OnIce_F_xGoals_with_earned_rebounds_scoreAdjusted', 'OnIce_F_xGoals_with_earned_rebounds_scoreFlurryAdjusted', 'OnIce_A_xOnGoal', 'OnIce_A_xGoals', 'OnIce_A_flurryAdjustedxGoals', 'OnIce_A_scoreVenueAdjustedxGoals', 'OnIce_A_flurryScoreVenueAdjustedxGoals', 'OnIce_A_shotsOnGoal', 'OnIce_A_missedShots', 'OnIce_A_blockedShotAttempts', 'OnIce_A_shotAttempts', 'OnIce_A_goals', 'OnIce_A_rebounds', 'OnIce_A_reboundGoals', 'OnIce_A_lowDangerShots', 'OnIce_A_mediumDangerShots', 'OnIce_A_highDangerShots', 'OnIce_A_lowDangerxGoals', 'OnIce_A_mediumDangerxGoals', 'OnIce_A_highDangerxGoals', 'OnIce_A_lowDangerGoals', 'OnIce_A_mediumDangerGoals', 'OnIce_A_highDangerGoals', 'OnIce_A_scoreAdjustedShotsAttempts', 'OnIce_A_unblockedShotAttempts', 'OnIce_A_scoreAdjustedUnblockedShotAttempts', 'OnIce_A_xGoalsFromxReboundsOfShots', 'OnIce_A_xGoalsFromActualReboundsOfShots', 'OnIce_A_reboundxGoals', 'OnIce_A_xGoals_with_earned_rebounds', 'OnIce_A_xGoals_with_earned_rebounds_scoreAdjusted', 'OnIce_A_xGoals_with_earned_rebounds_scoreFlurryAdjusted', 'home_score', 'away_score', 'on_ice_goal_diff', 'on_ice_xgoal_diff', 'game_goal_diff']\n"
     ]
    }
   ],
   "source": [
    "print(df.columns.to_list())\n"
   ]
  },
  {
   "cell_type": "code",
   "execution_count": 4,
   "metadata": {},
   "outputs": [],
   "source": [
    "# TODO: train on outsample \n",
    "# TODO: add differentials to out_sample\n",
    "\n",
    "\n",
    "predictability_features = ['I_F_xGoals', 'I_F_flurryAdjustedxGoals', 'I_F_scoreVenueAdjustedxGoals', 'I_F_flurryScoreVenueAdjustedxGoals', \n",
    "'I_F_primaryAssists', 'I_F_secondaryAssists', 'I_F_shotsOnGoal', 'I_F_blockedShotAttempts', 'I_F_shotAttempts', 'I_F_points', 'I_F_goals', 'I_F_rebounds',\n",
    "'I_F_reboundGoals', 'penalties', 'I_F_penalityMinutes', 'I_F_faceOffsWon', 'I_F_hits', 'I_F_takeaways', 'I_F_giveaways', 'I_F_lowDangerShots',\n",
    "'I_F_mediumDangerShots', 'I_F_highDangerShots', 'I_F_lowDangerxGoals', 'I_F_mediumDangerxGoals', 'I_F_highDangerxGoals', 'I_F_lowDangerGoals',\n",
    "'I_F_mediumDangerGoals', 'I_F_highDangerGoals', 'I_F_scoreAdjustedShotsAttempts', 'I_F_unblockedShotAttempts', \n",
    "'I_F_scoreAdjustedUnblockedShotAttempts', 'I_F_dZoneGiveaways', 'faceoffsWon', 'faceoffsLost', 'penalityMinutes', 'penalityMinutesDrawn', \n",
    "'penaltiesDrawn', 'shotsBlockedByPlayer', 'OnIce_F_xGoals', 'OnIce_F_flurryAdjustedxGoals', 'OnIce_F_scoreVenueAdjustedxGoals',\n",
    "'OnIce_F_flurryScoreVenueAdjustedxGoals', 'OnIce_F_shotsOnGoal', 'OnIce_F_missedShots', 'OnIce_F_blockedShotAttempts', 'OnIce_F_shotAttempts',\n",
    "'OnIce_F_goals', 'OnIce_F_lowDangerShots', 'OnIce_F_mediumDangerShots', 'OnIce_F_highDangerShots', 'OnIce_F_lowDangerxGoals',\n",
    "'OnIce_F_mediumDangerxGoals', 'OnIce_F_highDangerxGoals', 'OnIce_F_lowDangerGoals', 'OnIce_F_mediumDangerGoals', 'OnIce_F_highDangerGoals',\n",
    "'OnIce_F_scoreAdjustedShotsAttempts', 'OnIce_F_scoreAdjustedUnblockedShotAttempts', 'OnIce_F_xGoalsFromxReboundsOfShots', \n",
    "'OnIce_F_xGoalsFromActualReboundsOfShots', 'OnIce_F_reboundxGoals', 'OnIce_F_xGoals_with_earned_rebounds', 'OnIce_A_xOnGoal', \n",
    "'OnIce_A_xGoals', 'OnIce_A_flurryAdjustedxGoals', 'OnIce_A_scoreVenueAdjustedxGoals', 'OnIce_A_flurryScoreVenueAdjustedxGoals', \n",
    "'OnIce_A_shotsOnGoal', 'OnIce_A_blockedShotAttempts', 'OnIce_A_shotAttempts', 'OnIce_A_goals', 'OnIce_A_rebounds', 'OnIce_A_reboundGoals',\n",
    "'OnIce_A_lowDangerShots', 'OnIce_A_mediumDangerShots', 'OnIce_A_highDangerShots', 'OnIce_A_lowDangerxGoals', 'OnIce_A_mediumDangerxGoals', \n",
    "'OnIce_A_highDangerxGoals', 'OnIce_A_lowDangerGoals', 'OnIce_A_mediumDangerGoals', 'OnIce_A_highDangerGoals', 'OnIce_A_scoreAdjustedShotsAttempts',\n",
    "'OnIce_A_unblockedShotAttempts', 'OnIce_A_scoreAdjustedUnblockedShotAttempts', 'on_ice_goal_diff', 'on_ice_xgoal_diff', 'game_goal_diff']"
   ]
  },
  {
   "cell_type": "code",
   "execution_count": 5,
   "metadata": {},
   "outputs": [],
   "source": [
    "diff_list = [\n",
    "    'OnIce_{}lowDangerShots', 'OnIce_{}mediumDangerShots', 'OnIce_{}highDangerShots', 'OnIce_{}lowDangerxGoals',\n",
    "    'OnIce_{}mediumDangerxGoals', 'OnIce_{}highDangerxGoals', 'OnIce_{}lowDangerGoals', 'OnIce_{}mediumDangerGoals', 'OnIce_{}highDangerGoals',\n",
    "]\n",
    "\n",
    "for diff in diff_list:\n",
    "    diff_col = diff.format('') + '_diff'\n",
    "    predictability_features.append(diff_col)\n",
    "    df[diff_col] = np.where(True, df[diff.format('F_')] - df[diff.format('A_')], 0)\n"
   ]
  },
  {
   "cell_type": "code",
   "execution_count": 6,
   "metadata": {},
   "outputs": [
    {
     "name": "stdout",
     "output_type": "stream",
     "text": [
      "|    |   OnIce_F_highDangerxGoals |   OnIce_A_highDangerxGoals |   OnIce_highDangerxGoals_diff |\n",
      "|---:|---------------------------:|---------------------------:|------------------------------:|\n",
      "|  0 |                      0     |                      0.227 |                        -0.227 |\n",
      "|  1 |                      0     |                      0     |                         0     |\n",
      "|  2 |                      0     |                      0     |                         0     |\n",
      "|  3 |                      0     |                      0.265 |                        -0.265 |\n",
      "|  4 |                      0     |                      0     |                         0     |\n",
      "|  5 |                      0     |                      0     |                         0     |\n",
      "|  6 |                      0.388 |                      0     |                         0.388 |\n",
      "|  7 |                      0.207 |                      0     |                         0.207 |\n",
      "|  8 |                      0.21  |                      0     |                         0.21  |\n",
      "|  9 |                      0.286 |                      0.511 |                        -0.225 |\n",
      "| 10 |                      0     |                      0     |                         0     |\n",
      "| 11 |                      0     |                      0     |                         0     |\n",
      "| 12 |                      0     |                      0.436 |                        -0.436 |\n",
      "| 13 |                      0     |                      0.219 |                        -0.219 |\n",
      "| 14 |                      0     |                      0.463 |                        -0.463 |\n",
      "| 15 |                      0     |                      0     |                         0     |\n",
      "| 16 |                      0     |                      0     |                         0     |\n",
      "| 17 |                      0.266 |                      0.213 |                         0.053 |\n",
      "| 18 |                      0     |                      0     |                         0     |\n",
      "| 19 |                      0.228 |                      0.242 |                        -0.014 |\n",
      "| 20 |                      0.204 |                      0.622 |                        -0.418 |\n",
      "| 21 |                      0.347 |                      0     |                         0.347 |\n",
      "| 22 |                      0     |                      0     |                         0     |\n",
      "| 23 |                      0     |                      0     |                         0     |\n",
      "| 24 |                      0     |                      0     |                         0     |\n",
      "| 25 |                      0     |                      0.202 |                        -0.202 |\n",
      "| 26 |                      0     |                      0.362 |                        -0.362 |\n",
      "| 27 |                      0     |                      0     |                         0     |\n",
      "| 28 |                      0     |                      0.781 |                        -0.781 |\n",
      "| 29 |                      0     |                      0     |                         0     |\n"
     ]
    }
   ],
   "source": [
    "print(df[['OnIce_F_highDangerxGoals', 'OnIce_A_highDangerxGoals', 'OnIce_highDangerxGoals_diff']].head(\n",
    "    30).to_markdown())"
   ]
  },
  {
   "cell_type": "code",
   "execution_count": 7,
   "metadata": {},
   "outputs": [
    {
     "name": "stdout",
     "output_type": "stream",
     "text": [
      "|    | home_or_away   |   home_score |   away_score |   game_goal_diff |\n",
      "|---:|:---------------|-------------:|-------------:|-----------------:|\n",
      "|  0 | HOME           |            4 |            4 |                0 |\n",
      "|  1 | HOME           |            1 |            2 |               -1 |\n",
      "|  2 | AWAY           |            2 |            1 |               -1 |\n",
      "|  3 | AWAY           |            3 |            5 |                2 |\n",
      "|  4 | AWAY           |            1 |            2 |                1 |\n",
      "|  5 | AWAY           |            4 |            3 |               -1 |\n",
      "|  6 | HOME           |            1 |            5 |               -4 |\n",
      "|  7 | AWAY           |            3 |            6 |                3 |\n",
      "|  8 | HOME           |            1 |            2 |               -1 |\n",
      "|  9 | HOME           |            3 |            3 |                0 |\n",
      "| 10 | AWAY           |            5 |            3 |               -2 |\n",
      "| 11 | AWAY           |            1 |            1 |                0 |\n",
      "| 12 | HOME           |            3 |            1 |                2 |\n",
      "| 13 | AWAY           |            1 |            3 |                2 |\n",
      "| 14 | HOME           |            3 |            4 |               -1 |\n",
      "| 15 | HOME           |            5 |            1 |                4 |\n",
      "| 16 | AWAY           |            6 |            4 |               -2 |\n",
      "| 17 | AWAY           |            1 |            3 |                2 |\n",
      "| 18 | HOME           |            1 |            6 |               -5 |\n",
      "| 19 | HOME           |            4 |            5 |               -1 |\n",
      "| 20 | HOME           |            3 |            3 |                0 |\n",
      "| 21 | AWAY           |            2 |            2 |                0 |\n",
      "| 22 | AWAY           |            5 |            1 |               -4 |\n",
      "| 23 | HOME           |            3 |            2 |                1 |\n",
      "| 24 | AWAY           |            3 |            0 |               -3 |\n",
      "| 25 | AWAY           |            3 |            2 |               -1 |\n",
      "| 26 | AWAY           |            3 |            2 |               -1 |\n",
      "| 27 | AWAY           |            2 |            2 |                0 |\n",
      "| 28 | AWAY           |            4 |            5 |                1 |\n",
      "| 29 | AWAY           |            8 |            1 |               -7 |\n"
     ]
    }
   ],
   "source": [
    "print(df[['home_or_away', 'home_score', 'away_score', 'game_goal_diff']].head(\n",
    "\n",
    "    30).to_markdown())"
   ]
  },
  {
   "cell_type": "code",
   "execution_count": 8,
   "metadata": {},
   "outputs": [
    {
     "name": "stdout",
     "output_type": "stream",
     "text": [
      "|    |   Unnamed: 0.3 |   playerId |   season | name         |     gameId | playerTeam   | opposingTeam   | home_or_away   |   gameDate | position   |   icetime |   shifts |   gameScore |   iceTimeRank |   I_F_xOnGoal |   I_F_xGoals |   I_F_xRebounds |   I_F_xFreeze |   I_F_xPlayStopped |   I_F_xPlayContinuedInZone |   I_F_xPlayContinuedOutsideZone |   I_F_flurryAdjustedxGoals |   I_F_scoreVenueAdjustedxGoals |   I_F_flurryScoreVenueAdjustedxGoals |   I_F_primaryAssists |   I_F_secondaryAssists |   I_F_shotsOnGoal |   I_F_missedShots |   I_F_blockedShotAttempts |   I_F_shotAttempts |   I_F_points |   I_F_goals |   I_F_rebounds |   I_F_reboundGoals |   I_F_freeze |   I_F_playStopped |   I_F_playContinuedInZone |   I_F_playContinuedOutsideZone |   I_F_savedShotsOnGoal |   I_F_savedUnblockedShotAttempts |   penalties |   I_F_penalityMinutes |   I_F_faceOffsWon |   I_F_hits |   I_F_takeaways |   I_F_giveaways |   I_F_lowDangerShots |   I_F_mediumDangerShots |   I_F_highDangerShots |   I_F_lowDangerxGoals |   I_F_mediumDangerxGoals |   I_F_highDangerxGoals |   I_F_lowDangerGoals |   I_F_mediumDangerGoals |   I_F_highDangerGoals |   I_F_scoreAdjustedShotsAttempts |   I_F_unblockedShotAttempts |   I_F_scoreAdjustedUnblockedShotAttempts |   I_F_dZoneGiveaways |   I_F_xGoalsFromxReboundsOfShots |   I_F_xGoalsFromActualReboundsOfShots |   I_F_reboundxGoals |   I_F_xGoals_with_earned_rebounds |   I_F_xGoals_with_earned_rebounds_scoreAdjusted |   I_F_xGoals_with_earned_rebounds_scoreFlurryAdjusted |   I_F_shifts |   I_F_oZoneShiftStarts |   I_F_dZoneShiftStarts |   I_F_neutralZoneShiftStarts |   I_F_flyShiftStarts |   I_F_oZoneShiftEnds |   I_F_dZoneShiftEnds |   I_F_neutralZoneShiftEnds |   I_F_flyShiftEnds |   faceoffsWon |   faceoffsLost |   timeOnBench |   penalityMinutes |   penalityMinutesDrawn |   penaltiesDrawn |   shotsBlockedByPlayer |   OnIce_F_xOnGoal |   OnIce_F_xGoals |   OnIce_F_flurryAdjustedxGoals |   OnIce_F_scoreVenueAdjustedxGoals |   OnIce_F_flurryScoreVenueAdjustedxGoals |   OnIce_F_shotsOnGoal |   OnIce_F_missedShots |   OnIce_F_blockedShotAttempts |   OnIce_F_shotAttempts |   OnIce_F_goals |   OnIce_F_rebounds |   OnIce_F_reboundGoals |   OnIce_F_lowDangerShots |   OnIce_F_mediumDangerShots |   OnIce_F_highDangerShots |   OnIce_F_lowDangerxGoals |   OnIce_F_mediumDangerxGoals |   OnIce_F_highDangerxGoals |   OnIce_F_lowDangerGoals |   OnIce_F_mediumDangerGoals |   OnIce_F_highDangerGoals |   OnIce_F_scoreAdjustedShotsAttempts |   OnIce_F_unblockedShotAttempts |   OnIce_F_scoreAdjustedUnblockedShotAttempts |   OnIce_F_xGoalsFromxReboundsOfShots |   OnIce_F_xGoalsFromActualReboundsOfShots |   OnIce_F_reboundxGoals |   OnIce_F_xGoals_with_earned_rebounds |   OnIce_F_xGoals_with_earned_rebounds_scoreAdjusted |   OnIce_F_xGoals_with_earned_rebounds_scoreFlurryAdjusted |   OnIce_A_xOnGoal |   OnIce_A_xGoals |   OnIce_A_flurryAdjustedxGoals |   OnIce_A_scoreVenueAdjustedxGoals |   OnIce_A_flurryScoreVenueAdjustedxGoals |   OnIce_A_shotsOnGoal |   OnIce_A_missedShots |   OnIce_A_blockedShotAttempts |   OnIce_A_shotAttempts |   OnIce_A_goals |   OnIce_A_rebounds |   OnIce_A_reboundGoals |   OnIce_A_lowDangerShots |   OnIce_A_mediumDangerShots |   OnIce_A_highDangerShots |   OnIce_A_lowDangerxGoals |   OnIce_A_mediumDangerxGoals |   OnIce_A_highDangerxGoals |   OnIce_A_lowDangerGoals |   OnIce_A_mediumDangerGoals |   OnIce_A_highDangerGoals |   OnIce_A_scoreAdjustedShotsAttempts |   OnIce_A_unblockedShotAttempts |   OnIce_A_scoreAdjustedUnblockedShotAttempts |   OnIce_A_xGoalsFromxReboundsOfShots |   OnIce_A_xGoalsFromActualReboundsOfShots |   OnIce_A_reboundxGoals |   OnIce_A_xGoals_with_earned_rebounds |   OnIce_A_xGoals_with_earned_rebounds_scoreAdjusted |   OnIce_A_xGoals_with_earned_rebounds_scoreFlurryAdjusted |   home_score |   away_score |   on_ice_goal_diff |   on_ice_xgoal_diff |   game_goal_diff |   OnIce_lowDangerShots_diff |   OnIce_mediumDangerShots_diff |   OnIce_highDangerShots_diff |   OnIce_lowDangerxGoals_diff |   OnIce_mediumDangerxGoals_diff |   OnIce_highDangerxGoals_diff |   OnIce_lowDangerGoals_diff |   OnIce_mediumDangerGoals_diff |   OnIce_highDangerGoals_diff |\n",
      "|---:|---------------:|-----------:|---------:|:-------------|-----------:|:-------------|:---------------|:---------------|-----------:|:-----------|----------:|---------:|------------:|--------------:|--------------:|-------------:|----------------:|--------------:|-------------------:|---------------------------:|--------------------------------:|---------------------------:|-------------------------------:|-------------------------------------:|---------------------:|-----------------------:|------------------:|------------------:|--------------------------:|-------------------:|-------------:|------------:|---------------:|-------------------:|-------------:|------------------:|--------------------------:|-------------------------------:|-----------------------:|---------------------------------:|------------:|----------------------:|------------------:|-----------:|----------------:|----------------:|---------------------:|------------------------:|----------------------:|----------------------:|-------------------------:|-----------------------:|---------------------:|------------------------:|----------------------:|---------------------------------:|----------------------------:|-----------------------------------------:|---------------------:|---------------------------------:|--------------------------------------:|--------------------:|----------------------------------:|------------------------------------------------:|------------------------------------------------------:|-------------:|-----------------------:|-----------------------:|-----------------------------:|---------------------:|---------------------:|---------------------:|---------------------------:|-------------------:|--------------:|---------------:|--------------:|------------------:|-----------------------:|-----------------:|-----------------------:|------------------:|-----------------:|-------------------------------:|-----------------------------------:|-----------------------------------------:|----------------------:|----------------------:|------------------------------:|-----------------------:|----------------:|-------------------:|-----------------------:|-------------------------:|----------------------------:|--------------------------:|--------------------------:|-----------------------------:|---------------------------:|-------------------------:|----------------------------:|--------------------------:|-------------------------------------:|--------------------------------:|---------------------------------------------:|-------------------------------------:|------------------------------------------:|------------------------:|--------------------------------------:|----------------------------------------------------:|----------------------------------------------------------:|------------------:|-----------------:|-------------------------------:|-----------------------------------:|-----------------------------------------:|----------------------:|----------------------:|------------------------------:|-----------------------:|----------------:|-------------------:|-----------------------:|-------------------------:|----------------------------:|--------------------------:|--------------------------:|-----------------------------:|---------------------------:|-------------------------:|----------------------------:|--------------------------:|-------------------------------------:|--------------------------------:|---------------------------------------------:|-------------------------------------:|------------------------------------------:|------------------------:|--------------------------------------:|----------------------------------------------------:|----------------------------------------------------------:|-------------:|-------------:|-------------------:|--------------------:|-----------------:|----------------------------:|-------------------------------:|-----------------------------:|-----------------------------:|--------------------------------:|------------------------------:|----------------------------:|-------------------------------:|-----------------------------:|\n",
      "|  0 |              0 |    8477938 |     2017 | Haydn Fleury | 2017020023 | CAR          | MIN            | HOME           |   20171007 | D          |       863 |       20 |       0.625 |             5 |         0.632 |        0.027 |           0.046 |         0.213 |              0.027 |                      0.417 |                           0.27  |                      0.025 |                          0.026 |                                0.024 |                    0 |                      0 |                 1 |                 0 |                         2 |                  3 |            0 |           0 |              0 |                  0 |            0 |                 0 |                         0 |                              1 |                      1 |                                1 |           0 |                     0 |                 0 |          1 |               0 |               0 |                    1 |                       0 |                     0 |                 0.027 |                        0 |                      0 |                    0 |                       0 |                     0 |                            2.855 |                           1 |                                    0.971 |                    0 |                            0.009 |                                     0 |                   0 |                             0.035 |                                           0.034 |                                                 0.032 |           20 |                      4 |                      1 |                            2 |                   13 |                    1 |                    3 |                          2 |                 14 |             0 |              0 |          3037 |                 0 |                      0 |                0 |                      2 |             9.626 |            0.58  |                          0.568 |                              0.54  |                                    0.529 |                     6 |                     8 |                             6 |                     20 |               0 |                  0 |                      0 |                       13 |                           1 |                         0 |                     0.443 |                        0.137 |                      0     |                        0 |                           0 |                         0 |                               18.85  |                              14 |                                       13.158 |                                0.117 |                                     0     |                   0     |                                 0.697 |                                               0.649 |                                                     0.636 |             5.333 |            0.69  |                          0.646 |                              0.728 |                                    0.681 |                     5 |                     2 |                             4 |                     11 |               0 |                  1 |                      0 |                        4 |                           2 |                         1 |                     0.102 |                        0.362 |                      0.227 |                        0 |                           0 |                         0 |                               11.494 |                               7 |                                        7.353 |                                0.066 |                                     0.227 |                   0.227 |                                 0.529 |                                               0.559 |                                                     0.557 |            4 |            4 |                  0 |              -0.11  |                0 |                           9 |                             -1 |                           -1 |                        0.341 |                          -0.225 |                        -0.227 |                           0 |                              0 |                            0 |\n",
      "|  1 |              1 |    8477938 |     2017 | Haydn Fleury | 2017020040 | CAR          | CBJ            | HOME           |   20171010 | D          |       844 |       17 |       0.35  |             5 |         1.97  |        0.035 |           0.104 |         0.521 |              0.064 |                      1.375 |                           0.901 |                      0.035 |                          0.034 |                                0.034 |                    0 |                      0 |                 2 |                 1 |                         1 |                  4 |            0 |           0 |              0 |                  0 |            1 |                 0 |                         2 |                              0 |                      2 |                                3 |           0 |                     0 |                 0 |          5 |               1 |               0 |                    3 |                       0 |                     0 |                 0.035 |                        0 |                      0 |                    0 |                       0 |                     0 |                            3.825 |                           3 |                                    2.914 |                    0 |                            0.02  |                                     0 |                   0 |                             0.055 |                                           0.053 |                                                 0.053 |           17 |                      2 |                      2 |                            1 |                   12 |                    3 |                    5 |                          2 |                  7 |             0 |              0 |          3027 |                 0 |                      0 |                0 |                      1 |             5.514 |            0.244 |                          0.241 |                              0.23  |                                    0.227 |                     6 |                     2 |                             5 |                     13 |               0 |                  0 |                      0 |                        8 |                           0 |                         0 |                     0.244 |                        0     |                      0     |                        0 |                           0 |                         0 |                               12.445 |                               8 |                                        7.66  |                                0.072 |                                     0     |                   0     |                                 0.316 |                                               0.298 |                                                     0.294 |             5.986 |            0.394 |                          0.389 |                              0.413 |                                    0.408 |                     6 |                     3 |                             1 |                     10 |               0 |                  0 |                      0 |                        8 |                           1 |                         0 |                     0.264 |                        0.13  |                      0     |                        0 |                           0 |                         0 |                               10.32  |                               9 |                                        9.274 |                                0.076 |                                     0     |                   0     |                                 0.47  |                                               0.493 |                                                     0.487 |            1 |            2 |                  0 |              -0.15  |               -1 |                           0 |                             -1 |                            0 |                       -0.02  |                          -0.13  |                         0     |                           0 |                              0 |                            0 |\n",
      "|  6 |              6 |    8477938 |     2017 | Haydn Fleury | 2017020129 | CAR          | T.B            | HOME           |   20171024 | D          |       824 |       18 |      -0.1   |             6 |         0     |        0     |           0     |         0     |              0     |                      0     |                           0     |                      0     |                          0     |                                0     |                    0 |                      0 |                 0 |                 0 |                         1 |                  1 |            0 |           0 |              0 |                  0 |            0 |                 0 |                         0 |                              0 |                      0 |                                0 |           0 |                     0 |                 0 |          1 |               0 |               0 |                    0 |                       0 |                     0 |                 0     |                        0 |                      0 |                    0 |                       0 |                     0 |                            0.97  |                           0 |                                    0     |                    0 |                            0     |                                     0 |                   0 |                             0     |                                           0     |                                                 0     |           18 |                      3 |                      0 |                            3 |                   12 |                    2 |                    1 |                          4 |                 11 |             0 |              0 |          2776 |                 0 |                      0 |                0 |                      0 |             7.99  |            0.933 |                          0.914 |                              0.862 |                                    0.845 |                     6 |                     5 |                             3 |                     14 |               0 |                  1 |                      0 |                        7 |                           3 |                         1 |                     0.226 |                        0.318 |                      0.388 |                        0 |                           0 |                         0 |                               12.888 |                              11 |                                       10.174 |                                0.101 |                                     0.388 |                   0.388 |                                 0.646 |                                               0.604 |                                                     0.592 |             8.081 |            0.524 |                          0.515 |                              0.576 |                                    0.566 |                     7 |                     4 |                             2 |                     13 |               1 |                  0 |                      0 |                       10 |                           1 |                         0 |                     0.331 |                        0.193 |                      0     |                        1 |                           0 |                         0 |                               14.501 |                              11 |                                       12.222 |                                0.104 |                                     0     |                   0     |                                 0.628 |                                               0.691 |                                                     0.679 |            1 |            5 |                 -1 |               0.409 |               -4 |                          -3 |                              2 |                            1 |                       -0.105 |                           0.125 |                         0.388 |                          -1 |                              0 |                            0 |\n",
      "|  8 |              8 |    8477938 |     2017 | Haydn Fleury | 2017020152 | CAR          | STL            | HOME           |   20171027 | D          |       785 |       16 |      -0.05  |             5 |         0.682 |        0.031 |           0.041 |         0.23  |              0.025 |                      0.4   |                           0.273 |                      0.031 |                          0.03  |                                0.03  |                    0 |                      0 |                 0 |                 1 |                         1 |                  2 |            0 |           0 |              0 |                  0 |            0 |                 0 |                         0 |                              1 |                      0 |                                1 |           0 |                     0 |                 0 |          1 |               0 |               0 |                    1 |                       0 |                     0 |                 0.031 |                        0 |                      0 |                    0 |                       0 |                     0 |                            1.94  |                           1 |                                    0.971 |                    0 |                            0.008 |                                     0 |                   0 |                             0.039 |                                           0.038 |                                                 0.038 |           16 |                      4 |                      2 |                            4 |                    6 |                    2 |                    7 |                          0 |                  7 |             0 |              0 |          2815 |                 0 |                      0 |                0 |                      1 |             8.126 |            0.641 |                          0.577 |                              0.611 |                                    0.55  |                     9 |                     2 |                             2 |                     13 |               0 |                  1 |                      0 |                        9 |                           1 |                         1 |                     0.276 |                        0.155 |                      0.21  |                        0 |                           0 |                         0 |                               12.555 |                              11 |                                       10.628 |                                0.098 |                                     0.21  |                   0.21  |                                 0.529 |                                               0.503 |                                                     0.482 |             9.342 |            0.481 |                          0.472 |                              0.515 |                                    0.505 |                    11 |                     2 |                             2 |                     15 |               0 |                  0 |                      0 |                       12 |                           1 |                         0 |                     0.378 |                        0.103 |                      0     |                        0 |                           0 |                         0 |                               15.764 |                              13 |                                       13.676 |                                0.103 |                                     0     |                   0     |                                 0.584 |                                               0.624 |                                                     0.611 |            1 |            2 |                  0 |               0.16  |               -1 |                          -3 |                              0 |                            1 |                       -0.102 |                           0.052 |                         0.21  |                           0 |                              0 |                            0 |\n",
      "|  9 |              9 |    8477938 |     2017 | Haydn Fleury | 2017020167 | CAR          | ANA            | HOME           |   20171029 | D          |      1053 |       24 |       0.475 |             5 |         0.726 |        0.01  |           0.042 |         0.149 |              0.024 |                      0.426 |                           0.35  |                      0.01  |                          0.009 |                                0.009 |                    0 |                      0 |                 1 |                 0 |                         4 |                  5 |            0 |           0 |              0 |                  0 |            0 |                 0 |                         0 |                              1 |                      1 |                                1 |           0 |                     0 |                 0 |          1 |               0 |               0 |                    1 |                       0 |                     0 |                 0.01  |                        0 |                      0 |                    0 |                       0 |                     0 |                            4.74  |                           1 |                                    0.916 |                    0 |                            0.009 |                                     0 |                   0 |                             0.018 |                                           0.017 |                                                 0.017 |           24 |                      1 |                      1 |                            1 |                   21 |                    6 |                    1 |                          4 |                 13 |             0 |              0 |          2847 |                 0 |                      0 |                0 |                      0 |            12.956 |            1.024 |                          1.002 |                              0.975 |                                    0.954 |                    11 |                     7 |                             7 |                     25 |               2 |                  2 |                      1 |                       14 |                           3 |                         1 |                     0.384 |                        0.354 |                      0.286 |                        1 |                           0 |                         1 |                               23.814 |                              18 |                                       17.312 |                                0.191 |                                     0.396 |                   0.396 |                                 0.818 |                                               0.777 |                                                     0.772 |            15.469 |            1.58  |                          1.536 |                              1.631 |                                    1.587 |                    13 |                     8 |                             2 |                     23 |               0 |                  1 |                      0 |                       15 |                           4 |                         2 |                     0.589 |                        0.48  |                      0.511 |                        0 |                           0 |                         0 |                               23.35  |                              21 |                                       21.06  |                                0.187 |                                     0.106 |                   0.106 |                                 1.661 |                                               1.716 |                                                     1.67  |            3 |            3 |                  2 |              -0.556 |                0 |                          -1 |                             -1 |                           -1 |                       -0.205 |                          -0.126 |                        -0.225 |                           1 |                              0 |                            1 |\n"
     ]
    }
   ],
   "source": [
    "print(df[df['home_or_away'] == 'HOME'].head().to_markdown())"
   ]
  },
  {
   "cell_type": "code",
   "execution_count": 9,
   "metadata": {},
   "outputs": [],
   "source": [
    "from sklearn.model_selection import train_test_split\n",
    "\n",
    "x_train, x_test, y_train, y_test = train_test_split(df[predictability_features], df['game_goal_diff'], test_size=0.4)"
   ]
  },
  {
   "cell_type": "code",
   "execution_count": 10,
   "metadata": {},
   "outputs": [],
   "source": [
    "from sklearn.linear_model import LinearRegression\n",
    "from sklearn.metrics import mean_squared_error, r2_score\n",
    "\n",
    "pred_scores = []\n",
    "\n",
    "for feature in predictability_features:\n",
    "    model = LinearRegression()\n",
    "    model.fit(x_train[feature].values.reshape(-1, 1), y_train)\n",
    "\n",
    "    pred_y = model.predict(x_test[feature].values.reshape(-1, 1))\n",
    "    pred_scores.append((feature, mean_squared_error(y_test, pred_y), r2_score(y_test, pred_y)))\n",
    "\n"
   ]
  },
  {
   "cell_type": "code",
   "execution_count": 13,
   "metadata": {},
   "outputs": [
    {
     "name": "stdout",
     "output_type": "stream",
     "text": [
      "Feature: game_goal_diff | MSE: 1.8976846936081353e-25 | R2: 1.0\n",
      "Feature: on_ice_goal_diff | MSE: 4.478499644246601 | R2: 0.18016866396350395\n",
      "Feature: OnIce_A_goals | MSE: 4.972376856336962 | R2: 0.08975981126968313\n",
      "Feature: OnIce_F_goals | MSE: 5.000842413433308 | R2: 0.08454892424074245\n",
      "Feature: OnIce_mediumDangerGoals_diff | MSE: 5.035462000471334 | R2: 0.07821148435038117\n",
      "Feature: OnIce_lowDangerGoals_diff | MSE: 5.093017136705541 | R2: 0.06767547720895595\n",
      "Feature: I_F_points | MSE: 5.117515299007644 | R2: 0.06319085898276633\n",
      "Feature: OnIce_A_mediumDangerGoals | MSE: 5.24677242740157 | R2: 0.039529130126860657\n",
      "Feature: OnIce_F_mediumDangerGoals | MSE: 5.25580045434391 | R2: 0.03787646517702181\n",
      "Feature: OnIce_highDangerGoals_diff | MSE: 5.276957653424012 | R2: 0.034003441582856064\n",
      "Feature: OnIce_A_lowDangerGoals | MSE: 5.278314896297407 | R2: 0.03375498555369216\n",
      "Feature: OnIce_F_lowDangerGoals | MSE: 5.284808015538034 | R2: 0.03256635921787765\n",
      "Feature: I_F_goals | MSE: 5.322831167681771 | R2: 0.025605864833923464\n",
      "Feature: I_F_primaryAssists | MSE: 5.333392049816906 | R2: 0.023672596373872534\n",
      "Feature: I_F_secondaryAssists | MSE: 5.363163434624449 | R2: 0.018222665343112898\n",
      "Feature: OnIce_A_highDangerGoals | MSE: 5.370867709134334 | R2: 0.016812325683324247\n",
      "Feature: OnIce_F_highDangerGoals | MSE: 5.371770597582951 | R2: 0.016647043490196856\n",
      "Feature: on_ice_xgoal_diff | MSE: 5.377273574980828 | R2: 0.01563967189911586\n",
      "Feature: OnIce_A_flurryScoreVenueAdjustedxGoals | MSE: 5.379551839152397 | R2: 0.015222614288757264\n",
      "Feature: OnIce_A_scoreVenueAdjustedxGoals | MSE: 5.383998276870528 | R2: 0.014408652188806714\n",
      "Feature: OnIce_F_flurryScoreVenueAdjustedxGoals | MSE: 5.386828084993788 | R2: 0.013890629288570544\n",
      "Feature: OnIce_F_scoreVenueAdjustedxGoals | MSE: 5.390585969907808 | R2: 0.013202713233092078\n",
      "Feature: OnIce_mediumDangerxGoals_diff | MSE: 5.391389274043179 | R2: 0.013055660881889808\n",
      "Feature: OnIce_A_reboundGoals | MSE: 5.393017085221839 | R2: 0.012757674788460016\n",
      "Feature: OnIce_mediumDangerShots_diff | MSE: 5.397694176848594 | R2: 0.011901489328658865\n",
      "Feature: I_F_mediumDangerGoals | MSE: 5.408347737926804 | R2: 0.009951255119415303\n",
      "Feature: OnIce_highDangerxGoals_diff | MSE: 5.412654381306823 | R2: 0.009162883683322853\n",
      "Feature: OnIce_highDangerShots_diff | MSE: 5.41410053181657 | R2: 0.008898152278009941\n",
      "Feature: I_F_highDangerGoals | MSE: 5.416690677222224 | R2: 0.008424001884546284\n",
      "Feature: I_F_lowDangerGoals | MSE: 5.416896862169139 | R2: 0.008386257797479701\n",
      "Feature: OnIce_A_flurryAdjustedxGoals | MSE: 5.423118824095951 | R2: 0.007247269349466845\n",
      "Feature: OnIce_A_scoreAdjustedUnblockedShotAttempts | MSE: 5.424913154081933 | R2: 0.0069188004276065085\n",
      "Feature: OnIce_A_xGoals | MSE: 5.425124197935015 | R2: 0.006880166872224258\n",
      "Feature: I_F_flurryScoreVenueAdjustedxGoals | MSE: 5.426757891683792 | R2: 0.006581103919198417\n",
      "Feature: OnIce_F_flurryAdjustedxGoals | MSE: 5.427256182021604 | R2: 0.006489887202477784\n",
      "Feature: OnIce_F_xGoals | MSE: 5.428880085894753 | R2: 0.006192616377944216\n",
      "Feature: OnIce_A_mediumDangerxGoals | MSE: 5.428888159777438 | R2: 0.006191138378043748\n",
      "Feature: I_F_scoreVenueAdjustedxGoals | MSE: 5.429040936199111 | R2: 0.006163171222110964\n",
      "Feature: OnIce_F_scoreAdjustedUnblockedShotAttempts | MSE: 5.429044862472566 | R2: 0.0061624524809549275\n",
      "Feature: OnIce_A_scoreAdjustedShotsAttempts | MSE: 5.429362497950163 | R2: 0.00610430632964154\n",
      "Feature: OnIce_F_blockedShotAttempts | MSE: 5.43019678810283 | R2: 0.005951581697547059\n",
      "Feature: OnIce_A_blockedShotAttempts | MSE: 5.430328409123547 | R2: 0.00592748723604497\n",
      "Feature: OnIce_A_mediumDangerShots | MSE: 5.43205101996338 | R2: 0.005612147176097704\n",
      "Feature: OnIce_F_mediumDangerxGoals | MSE: 5.433221824026511 | R2: 0.005397820518609486\n",
      "Feature: OnIce_F_scoreAdjustedShotsAttempts | MSE: 5.433575159413339 | R2: 0.005333139164302669\n",
      "Feature: OnIce_F_xGoals_with_earned_rebounds | MSE: 5.434900435142945 | R2: 0.0050905350204315525\n",
      "Feature: OnIce_F_mediumDangerShots | MSE: 5.436038745482697 | R2: 0.004882156643565505\n",
      "Feature: I_F_flurryAdjustedxGoals | MSE: 5.436791903710477 | R2: 0.0047442839707562134\n",
      "Feature: OnIce_F_highDangerxGoals | MSE: 5.4384621326798035 | R2: 0.004438532903170644\n",
      "Feature: I_F_xGoals | MSE: 5.438489586502545 | R2: 0.004433507223598254\n",
      "Feature: I_F_highDangerxGoals | MSE: 5.438651263865863 | R2: 0.004403910666870514\n",
      "Feature: OnIce_A_highDangerxGoals | MSE: 5.439008356833092 | R2: 0.004338541452252209\n",
      "Feature: OnIce_A_highDangerShots | MSE: 5.439398285782891 | R2: 0.004267161303258771\n",
      "Feature: OnIce_F_highDangerShots | MSE: 5.439510557532605 | R2: 0.004246608907171101\n",
      "Feature: I_F_reboundGoals | MSE: 5.445291307865758 | R2: 0.0031883883767730437\n",
      "Feature: I_F_highDangerShots | MSE: 5.446810585303345 | R2: 0.002910270401913606\n",
      "Feature: OnIce_lowDangerShots_diff | MSE: 5.447920442761934 | R2: 0.002707100591628153\n",
      "Feature: I_F_blockedShotAttempts | MSE: 5.450582754934428 | R2: 0.0022197393950886823\n",
      "Feature: OnIce_F_xGoalsFromActualReboundsOfShots | MSE: 5.451710526992773 | R2: 0.002013290149407432\n",
      "Feature: OnIce_F_reboundxGoals | MSE: 5.452089139272539 | R2: 0.0019439816229326334\n",
      "Feature: shotsBlockedByPlayer | MSE: 5.452889210981979 | R2: 0.0017975209975941153\n",
      "Feature: I_F_takeaways | MSE: 5.454127652196592 | R2: 0.0015708127255765758\n",
      "Feature: OnIce_F_xGoalsFromxReboundsOfShots | MSE: 5.454605258563971 | R2: 0.0014833824035106469\n",
      "Feature: I_F_mediumDangerxGoals | MSE: 5.455304663093088 | R2: 0.0013553498490652682\n",
      "Feature: I_F_mediumDangerShots | MSE: 5.456228831407045 | R2: 0.0011861721771349032\n",
      "Feature: I_F_scoreAdjustedUnblockedShotAttempts | MSE: 5.456691845255673 | R2: 0.001101413152399644\n",
      "Feature: OnIce_F_missedShots | MSE: 5.456781927681847 | R2: 0.0010849227199623002\n",
      "Feature: OnIce_A_rebounds | MSE: 5.456792157152697 | R2: 0.0010830501194442066\n",
      "Feature: OnIce_A_lowDangerShots | MSE: 5.456825617663332 | R2: 0.0010769248593534009\n",
      "Feature: OnIce_F_lowDangerShots | MSE: 5.45689603041118 | R2: 0.0010640351458941488\n",
      "Feature: I_F_lowDangerShots | MSE: 5.4578213277589445 | R2: 0.0008946507937431791\n",
      "Feature: I_F_hits | MSE: 5.457890636777863 | R2: 0.0008819631282093177\n",
      "Feature: OnIce_A_shotsOnGoal | MSE: 5.458068005125291 | R2: 0.000849494189771538\n",
      "Feature: OnIce_F_shotsOnGoal | MSE: 5.458563013530437 | R2: 0.0007588782615864931\n",
      "Feature: I_F_scoreAdjustedShotsAttempts | MSE: 5.458908248328272 | R2: 0.0006956797960202543\n",
      "Feature: OnIce_F_shotAttempts | MSE: 5.459657512793164 | R2: 0.0005585199130030416\n",
      "Feature: OnIce_A_shotAttempts | MSE: 5.4600038924598815 | R2: 0.0004951118684571876\n",
      "Feature: I_F_shotAttempts | MSE: 5.460759587352744 | R2: 0.0003567748353289213\n",
      "Feature: OnIce_A_xOnGoal | MSE: 5.461496428326389 | R2: 0.00022188918882770636\n",
      "Feature: I_F_rebounds | MSE: 5.46173435599139 | R2: 0.00017833429969682513\n",
      "Feature: I_F_shotsOnGoal | MSE: 5.461784627273307 | R2: 0.00016913167035836896\n",
      "Feature: OnIce_A_unblockedShotAttempts | MSE: 5.462371752277387 | R2: 6.165293534632355e-05\n",
      "Feature: I_F_dZoneGiveaways | MSE: 5.46256368129386 | R2: 2.651852996549131e-05\n",
      "Feature: I_F_faceOffsWon | MSE: 5.462686980845897 | R2: 3.9473913009402395e-06\n",
      "Feature: faceoffsWon | MSE: 5.462686980845897 | R2: 3.9473913009402395e-06\n",
      "Feature: I_F_penalityMinutes | MSE: 5.4627308992524695 | R2: -4.092284661361134e-06\n",
      "Feature: penalityMinutes | MSE: 5.4627308992524695 | R2: -4.092284661361134e-06\n",
      "Feature: penalties | MSE: 5.462732699614189 | R2: -4.421857748626579e-06\n",
      "Feature: I_F_giveaways | MSE: 5.462742477130624 | R2: -6.211723774907085e-06\n",
      "Feature: OnIce_lowDangerxGoals_diff | MSE: 5.462752235882308 | R2: -7.998154737620666e-06\n",
      "Feature: penaltiesDrawn | MSE: 5.46276809435316 | R2: -1.0901196465518126e-05\n",
      "Feature: penalityMinutesDrawn | MSE: 5.462774572848775 | R2: -1.2087145809802635e-05\n",
      "Feature: OnIce_A_lowDangerxGoals | MSE: 5.4627796580409225 | R2: -1.3018037894774181e-05\n",
      "Feature: OnIce_F_lowDangerxGoals | MSE: 5.46279538885681 | R2: -1.589771118504224e-05\n",
      "Feature: I_F_lowDangerxGoals | MSE: 5.46279925567758 | R2: -1.660556897009613e-05\n",
      "Feature: faceoffsLost | MSE: 5.46285982805649 | R2: -2.7693910663373345e-05\n",
      "Feature: I_F_unblockedShotAttempts | MSE: 5.462866035049387 | R2: -2.8830158890214008e-05\n"
     ]
    }
   ],
   "source": [
    "sorted_by_r2 = sorted(pred_scores, key=lambda tup: tup[2], reverse=True)\n",
    "for predicted_feature in sorted_by_r2:\n",
    "    print(f'Feature: {predicted_feature[0]} | MSE: {predicted_feature[1]} | R2: {predicted_feature[2]}')"
   ]
  }
 ],
 "metadata": {
  "kernelspec": {
   "display_name": "hockey",
   "language": "python",
   "name": "python3"
  },
  "language_info": {
   "codemirror_mode": {
    "name": "ipython",
    "version": 3
   },
   "file_extension": ".py",
   "mimetype": "text/x-python",
   "name": "python",
   "nbconvert_exporter": "python",
   "pygments_lexer": "ipython3",
   "version": "3.10.10"
  }
 },
 "nbformat": 4,
 "nbformat_minor": 2
}
