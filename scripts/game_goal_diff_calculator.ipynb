{
 "cells": [
  {
   "cell_type": "markdown",
   "metadata": {},
   "source": [
    "## Notebook to Calculate Game Goal Differntial from Kaggle and EH data\n",
    "#### 2007/2008-2019/2020 are from Kaggle, 2021- is from EH via Kevin"
   ]
  },
  {
   "cell_type": "markdown",
   "metadata": {},
   "source": [
    "### 2007-2019\n",
    "- open the team_game_stats csv and group by game_id\n",
    "- for each game_id, get the home team, away team, home score, away score\n",
    "\n",
    "### 2020-2022\n",
    "- for each season, we have a csv with all the goals. \n",
    "- open the file, group it by game_id, and use groupby to get the sum of home/away goals that were not 1v0 or 0v1 gamestate (not shootout)\n",
    "- add the game_id, home team, away team, home score, away score to a csv"
   ]
  },
  {
   "cell_type": "code",
   "execution_count": 1,
   "metadata": {},
   "outputs": [],
   "source": [
    "import pandas as pd"
   ]
  },
  {
   "cell_type": "code",
   "execution_count": 2,
   "metadata": {},
   "outputs": [
    {
     "name": "stdout",
     "output_type": "stream",
     "text": [
      "|    |    game_id |   season | type   | date_time_GMT        |   away_team_id |   home_team_id |   away_goals |   home_goals | outcome      | home_rink_side_start   | venue          | venue_link          | venue_time_zone_id   |   venue_time_zone_offset | venue_time_zone_tz   |\n",
      "|---:|-----------:|---------:|:-------|:---------------------|---------------:|---------------:|-------------:|-------------:|:-------------|:-----------------------|:---------------|:--------------------|:---------------------|-------------------------:|:---------------------|\n",
      "|  0 | 2016020045 | 20162017 | R      | 2016-10-19T00:30:00Z |              4 |             16 |            4 |            7 | home win REG | right                  | United Center  | /api/v1/venues/null | America/Chicago      |                       -5 | CDT                  |\n",
      "|  1 | 2017020812 | 20172018 | R      | 2018-02-07T00:00:00Z |             24 |              7 |            4 |            3 | away win OT  | left                   | KeyBank Center | /api/v1/venues/null | America/New_York     |                       -4 | EDT                  |\n",
      "|  2 | 2015020314 | 20152016 | R      | 2015-11-24T01:00:00Z |             21 |             52 |            4 |            1 | away win REG | right                  | MTS Centre     | /api/v1/venues/null | America/Winnipeg     |                       -5 | CDT                  |\n",
      "|  3 | 2015020849 | 20152016 | R      | 2016-02-17T00:00:00Z |             52 |             12 |            1 |            2 | home win REG | right                  | PNC Arena      | /api/v1/venues/null | America/New_York     |                       -4 | EDT                  |\n",
      "|  4 | 2017020586 | 20172018 | R      | 2017-12-30T03:00:00Z |             20 |             24 |            1 |            2 | home win REG | left                   | Honda Center   | /api/v1/venues/null | America/Los_Angeles  |                       -7 | PDT                  |\n"
     ]
    }
   ],
   "source": [
    "pre_19_game_df = pd.read_csv('/Users/tylerviducic/dev/hockey_analytics/gamescore_model/kaggle_data/game.csv')\n",
    "print(pre_19_game_df.head().to_markdown())"
   ]
  },
  {
   "cell_type": "code",
   "execution_count": 3,
   "metadata": {},
   "outputs": [
    {
     "name": "stdout",
     "output_type": "stream",
     "text": [
      "|    |    game_id |   team_id | HoA   | won   | settled_in   | head_coach       |   goals |   shots |   hits |   pim |   powerPlayOpportunities |   powerPlayGoals |   faceOffWinPercentage |   giveaways |   takeaways |   blocked | startRinkSide   |\n",
      "|---:|-----------:|----------:|:------|:------|:-------------|:-----------------|--------:|--------:|-------:|------:|-------------------------:|-----------------:|-----------------------:|------------:|------------:|----------:|:----------------|\n",
      "|  0 | 2016020045 |         4 | away  | False | REG          | Dave Hakstol     |       4 |      27 |     30 |     6 |                        4 |                2 |                   50.9 |          12 |           9 |        11 | left            |\n",
      "|  1 | 2016020045 |        16 | home  | True  | REG          | Joel Quenneville |       7 |      28 |     20 |     8 |                        3 |                2 |                   49.1 |          16 |           8 |         9 | left            |\n",
      "|  2 | 2017020812 |        24 | away  | True  | OT           | Randy Carlyle    |       4 |      34 |     16 |     6 |                        3 |                1 |                   43.8 |           7 |           4 |        14 | right           |\n",
      "|  3 | 2017020812 |         7 | home  | False | OT           | Phil Housley     |       3 |      33 |     17 |     8 |                        2 |                1 |                   56.2 |           5 |           6 |        14 | right           |\n",
      "|  4 | 2015020314 |        21 | away  | True  | REG          | Patrick Roy      |       4 |      29 |     17 |     9 |                        3 |                1 |                   45.7 |          13 |           5 |        20 | left            |\n"
     ]
    }
   ],
   "source": [
    "pre_19_game_team_stats_df = pd.read_csv('/Users/tylerviducic/dev/hockey_analytics/gamescore_model/kaggle_data/game_teams_stats.csv')\n",
    "print(pre_19_game_team_stats_df.head().to_markdown())"
   ]
  },
  {
   "cell_type": "code",
   "execution_count": 4,
   "metadata": {},
   "outputs": [],
   "source": [
    "team_stats_grouped = pre_19_game_team_stats_df.groupby('game_id')"
   ]
  },
  {
   "cell_type": "code",
   "execution_count": 13,
   "metadata": {},
   "outputs": [],
   "source": [
    "away_df = pd.concat([group.loc[group['HoA'] == 'away', ['game_id', 'team_id', 'goals']].reset_index(drop=True) for game, group in team_stats_grouped])\n",
    "away_df = away_df.rename(columns={'team_id': 'away_team_id', 'goals': 'away_goals'})\n",
    "home_df = pd.concat([group.loc[group['HoA'] == 'home', ['game_id', 'team_id', 'goals']].reset_index(drop=True) for game, group in team_stats_grouped])\n",
    "home_df = home_df.rename(columns={'team_id': 'home_team_id', 'goals': 'home_goals'})\n",
    "goal_diff_df = pd.merge(away_df, home_df, on='game_id')\n",
    "goal_diff_df['home_goals'] = goal_diff_df['home_goals'].astype(\"Int64\") # Int64 allows for null values\n",
    "goal_diff_df['away_goals'] = goal_diff_df['away_goals'].astype(\"Int64\")\n"
   ]
  },
  {
   "cell_type": "code",
   "execution_count": 15,
   "metadata": {},
   "outputs": [],
   "source": [
    "# TODO: follow the procedure for the 2020-2022 seasons"
   ]
  }
 ],
 "metadata": {
  "kernelspec": {
   "display_name": "hockey",
   "language": "python",
   "name": "python3"
  },
  "language_info": {
   "codemirror_mode": {
    "name": "ipython",
    "version": 3
   },
   "file_extension": ".py",
   "mimetype": "text/x-python",
   "name": "python",
   "nbconvert_exporter": "python",
   "pygments_lexer": "ipython3",
   "version": "3.10.10"
  },
  "orig_nbformat": 4
 },
 "nbformat": 4,
 "nbformat_minor": 2
}
