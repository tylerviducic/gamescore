{
 "cells": [
  {
   "cell_type": "markdown",
   "metadata": {},
   "source": [
    "## Notebook to Calculate Game Goal Differntial from Kaggle and EH data\n",
    "#### 2007/2008-2019/2020 are from Kaggle, 2021- is from EH via Kevin"
   ]
  },
  {
   "cell_type": "markdown",
   "metadata": {},
   "source": [
    "### 2007-2019\n",
    "- Open game.csv and game_team_stats.csv files and read them into a dataframes\n",
    "- start by adding non-OT games to a csv with ID, home team, away team, home score, away score\n",
    "- for OT games, get the game_team_stats for that game and add the same info. this will separate out SO games\n",
    "\n",
    "### 2019-2022\n",
    "- for each season, we have a csv with all the goals. \n",
    "- open the file, group it by game_id, and use groupby to get the sum of home/away goals that were not 1v0 or 0v1 gamestate (not shootout)\n",
    "- add the game_id, home team, away team, home score, away score to a csv"
   ]
  }
 ],
 "metadata": {
  "kernelspec": {
   "display_name": "hockey",
   "language": "python",
   "name": "python3"
  },
  "language_info": {
   "name": "python",
   "version": "3.10.10"
  },
  "orig_nbformat": 4
 },
 "nbformat": 4,
 "nbformat_minor": 2
}
