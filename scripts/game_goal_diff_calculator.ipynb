{
 "cells": [
  {
   "cell_type": "markdown",
   "metadata": {},
   "source": [
    "## Notebook to Calculate Game Goal Differntial from Kaggle and EH data\n",
    "#### 2007/2008-2019/2020 are from Kaggle, 2021- is from EH via Kevin"
   ]
  },
  {
   "cell_type": "markdown",
   "metadata": {},
   "source": [
    "### 2007-2019\n",
    "- open the team_game_stats csv and group by game_id\n",
    "- for each game_id, get the home team, away team, home score, away score\n",
    "\n",
    "### 2020-2022\n",
    "- for each season, we have a csv with all the goals. \n",
    "- open the file, group it by game_id, and use groupby to get the sum of home/away goals that were not 1v0 or 0v1 gamestate (not shootout)\n",
    "- add the game_id, home team, away team, home score, away score to a csv"
   ]
  },
  {
   "cell_type": "code",
   "execution_count": 1,
   "metadata": {},
   "outputs": [],
   "source": [
    "import pandas as pd"
   ]
  },
  {
   "cell_type": "code",
   "execution_count": 2,
   "metadata": {},
   "outputs": [
    {
     "name": "stdout",
     "output_type": "stream",
     "text": [
      "|    |    game_id |   season | type   | date_time_GMT        |   away_team_id |   home_team_id |   away_goals |   home_goals | outcome      | home_rink_side_start   | venue          | venue_link          | venue_time_zone_id   |   venue_time_zone_offset | venue_time_zone_tz   |\n",
      "|---:|-----------:|---------:|:-------|:---------------------|---------------:|---------------:|-------------:|-------------:|:-------------|:-----------------------|:---------------|:--------------------|:---------------------|-------------------------:|:---------------------|\n",
      "|  0 | 2016020045 | 20162017 | R      | 2016-10-19T00:30:00Z |              4 |             16 |            4 |            7 | home win REG | right                  | United Center  | /api/v1/venues/null | America/Chicago      |                       -5 | CDT                  |\n",
      "|  1 | 2017020812 | 20172018 | R      | 2018-02-07T00:00:00Z |             24 |              7 |            4 |            3 | away win OT  | left                   | KeyBank Center | /api/v1/venues/null | America/New_York     |                       -4 | EDT                  |\n",
      "|  2 | 2015020314 | 20152016 | R      | 2015-11-24T01:00:00Z |             21 |             52 |            4 |            1 | away win REG | right                  | MTS Centre     | /api/v1/venues/null | America/Winnipeg     |                       -5 | CDT                  |\n",
      "|  3 | 2015020849 | 20152016 | R      | 2016-02-17T00:00:00Z |             52 |             12 |            1 |            2 | home win REG | right                  | PNC Arena      | /api/v1/venues/null | America/New_York     |                       -4 | EDT                  |\n",
      "|  4 | 2017020586 | 20172018 | R      | 2017-12-30T03:00:00Z |             20 |             24 |            1 |            2 | home win REG | left                   | Honda Center   | /api/v1/venues/null | America/Los_Angeles  |                       -7 | PDT                  |\n"
     ]
    }
   ],
   "source": [
    "pre_19_game_df = pd.read_csv('/Users/tylerviducic/dev/hockey_analytics/gamescore_model/kaggle_data/game.csv')\n",
    "print(pre_19_game_df.head().to_markdown())"
   ]
  },
  {
   "cell_type": "code",
   "execution_count": 3,
   "metadata": {},
   "outputs": [
    {
     "name": "stdout",
     "output_type": "stream",
     "text": [
      "|    |    game_id |   team_id | HoA   | won   | settled_in   | head_coach       |   goals |   shots |   hits |   pim |   powerPlayOpportunities |   powerPlayGoals |   faceOffWinPercentage |   giveaways |   takeaways |   blocked | startRinkSide   |\n",
      "|---:|-----------:|----------:|:------|:------|:-------------|:-----------------|--------:|--------:|-------:|------:|-------------------------:|-----------------:|-----------------------:|------------:|------------:|----------:|:----------------|\n",
      "|  0 | 2016020045 |         4 | away  | False | REG          | Dave Hakstol     |       4 |      27 |     30 |     6 |                        4 |                2 |                   50.9 |          12 |           9 |        11 | left            |\n",
      "|  1 | 2016020045 |        16 | home  | True  | REG          | Joel Quenneville |       7 |      28 |     20 |     8 |                        3 |                2 |                   49.1 |          16 |           8 |         9 | left            |\n",
      "|  2 | 2017020812 |        24 | away  | True  | OT           | Randy Carlyle    |       4 |      34 |     16 |     6 |                        3 |                1 |                   43.8 |           7 |           4 |        14 | right           |\n",
      "|  3 | 2017020812 |         7 | home  | False | OT           | Phil Housley     |       3 |      33 |     17 |     8 |                        2 |                1 |                   56.2 |           5 |           6 |        14 | right           |\n",
      "|  4 | 2015020314 |        21 | away  | True  | REG          | Patrick Roy      |       4 |      29 |     17 |     9 |                        3 |                1 |                   45.7 |          13 |           5 |        20 | left            |\n"
     ]
    }
   ],
   "source": [
    "pre_19_game_team_stats_df = pd.read_csv('/Users/tylerviducic/dev/hockey_analytics/gamescore_model/kaggle_data/game_teams_stats.csv')\n",
    "print(pre_19_game_team_stats_df.head().to_markdown())"
   ]
  },
  {
   "cell_type": "code",
   "execution_count": 4,
   "metadata": {},
   "outputs": [],
   "source": [
    "team_stats_grouped = pre_19_game_team_stats_df.groupby('game_id')"
   ]
  },
  {
   "cell_type": "code",
   "execution_count": 5,
   "metadata": {},
   "outputs": [],
   "source": [
    "away_df = pd.concat([group.loc[group['HoA'] == 'away', ['game_id', 'team_id', 'goals']].reset_index(drop=True) for game, group in team_stats_grouped])\n",
    "away_df = away_df.rename(columns={'team_id': 'away_team_id', 'goals': 'away_goals'})\n",
    "home_df = pd.concat([group.loc[group['HoA'] == 'home', ['game_id', 'team_id', 'goals']].reset_index(drop=True) for game, group in team_stats_grouped])\n",
    "home_df = home_df.rename(columns={'team_id': 'home_team_id', 'goals': 'home_goals'})\n",
    "goal_diff_df = pd.merge(away_df, home_df, on='game_id')\n",
    "goal_diff_df['home_goals'] = goal_diff_df['home_goals'].astype(\"Int64\") # Int64 allows for null values\n",
    "goal_diff_df['away_goals'] = goal_diff_df['away_goals'].astype(\"Int64\")\n"
   ]
  },
  {
   "cell_type": "code",
   "execution_count": 6,
   "metadata": {},
   "outputs": [
    {
     "name": "stdout",
     "output_type": "stream",
     "text": [
      "|    |    game_id |   away_team_id |   away_goals |   home_team_id |   home_goals |\n",
      "|---:|-----------:|---------------:|-------------:|---------------:|-------------:|\n",
      "|  0 | 2000020001 |             21 |            2 |             25 |            2 |\n",
      "|  1 | 2000020002 |              9 |            4 |              6 |            4 |\n",
      "|  2 | 2000020003 |             16 |            2 |              7 |            4 |\n",
      "|  3 | 2000020004 |             23 |            3 |              4 |            6 |\n",
      "|  4 | 2000020005 |             17 |            4 |             20 |            3 |\n"
     ]
    }
   ],
   "source": [
    "print(goal_diff_df.head().to_markdown())"
   ]
  },
  {
   "cell_type": "code",
   "execution_count": 7,
   "metadata": {},
   "outputs": [],
   "source": [
    "eh_df = pd.read_csv('/Users/tylerviducic/dev/hockey_analytics/gamescore_model/kaggle_data/EH_pbp_query_20202021_2023-08-11.csv')"
   ]
  },
  {
   "cell_type": "code",
   "execution_count": 8,
   "metadata": {},
   "outputs": [
    {
     "name": "stdout",
     "output_type": "stream",
     "text": [
      "|    |   season |    game_id | game_date   | session   |   event_index |   game_period |   game_seconds | clock_time   | event_type   | event_description                                                                            | event_detail   | event_zone   | event_team   | event_player_1     | event_player_2   | event_player_3     |   event_length |   coords_x |   coords_y |   num_on |   num_off |   players_on |   players_off | home_on_1          | home_on_2          | home_on_3           | home_on_4           | home_on_5           | home_on_6         |   home_on_7 | away_on_1         | away_on_2         | away_on_3         | away_on_4          | away_on_5         | away_on_6       |   away_on_7 | home_goalie         | away_goalie       | home_team   | away_team   |   home_skaters |   away_skaters |   home_score |   away_score | game_score_state   | game_strength_state   | home_zone   |   pbp_distance |   event_distance |   event_angle |   home_zonestart |   face_index |   pen_index |   shift_index |   pred_goal |\n",
      "|---:|---------:|-----------:|:------------|:----------|--------------:|--------------:|---------------:|:-------------|:-------------|:---------------------------------------------------------------------------------------------|:---------------|:-------------|:-------------|:-------------------|:-----------------|:-------------------|---------------:|-----------:|-----------:|---------:|----------:|-------------:|--------------:|:-------------------|:-------------------|:--------------------|:--------------------|:--------------------|:------------------|------------:|:------------------|:------------------|:------------------|:-------------------|:------------------|:----------------|------------:|:--------------------|:------------------|:------------|:------------|---------------:|---------------:|-------------:|-------------:|:-------------------|:----------------------|:------------|---------------:|-----------------:|--------------:|-----------------:|-------------:|------------:|--------------:|------------:|\n",
      "|  0 | 20202021 | 2020020001 | 2021-01-13  | R         |            58 |             1 |            312 | 14:48        | GOAL         | PIT #14 JANKOWSKI(1), Snap, Off. Zone, 9 ft.Assists: #13 TANEV(1); #19 MCCANN(1)             | Snap           | Off          | PIT          | MARK.JANKOWSKI     | BRANDON.TANEV    | JARED.MCCANN       |              0 |         81 |         -5 |      nan |       nan |          nan |           nan | CARTER.HART        | IVAN.PROVOROV      | JAKUB.VORACEK       | JAMES.VAN RIEMSDYK  | JUSTIN.BRAUN        | NOLAN.PATRICK     |         nan | BRANDON.TANEV     | JARED.MCCANN      | JOHN.MARINO       | MARK.JANKOWSKI     | MIKE.MATHESON     | TRISTAN.JARRY   |         nan | CARTER.HART         | TRISTAN.JARRY     | PHI         | PIT         |              5 |              5 |            0 |            0 | 0v0                | 5v5                   | Def         |              9 |             9.43 |         32.01 |                1 |            5 |           0 |            22 |   0.14779   |\n",
      "|  1 | 20202021 | 2020020001 | 2021-01-13  | R         |           148 |             1 |            911 | 4:49         | GOAL         | PHI #25 VAN RIEMSDYK(1), Tip-In, Off. Zone, 10 ft.Assists: #56 GUSTAFSSON(1); #86 FARABEE(1) | Tip-In         | Off          | PHI          | JAMES.VAN RIEMSDYK | ERIK.GUSTAFSSON2 | JOEL.FARABEE       |              0 |        -79 |         -2 |      nan |       nan |          nan |           nan | CARTER.HART        | ERIK.GUSTAFSSON2   | JAKUB.VORACEK       | JAMES.VAN RIEMSDYK  | JOEL.FARABEE        | NOLAN.PATRICK     |         nan | BRYAN.RUST        | EVAN.RODRIGUES    | JOHN.MARINO       | MIKE.MATHESON      | TRISTAN.JARRY     | nan             |         nan | CARTER.HART         | TRISTAN.JARRY     | PHI         | PIT         |              5 |              4 |            0 |            1 | 0v1                | 5v4                   | Off         |             10 |            10.2  |         11.31 |                3 |           12 |           2 |            70 |   0.129795  |\n",
      "|  2 | 20202021 | 2020020001 | 2021-01-13  | R         |           197 |             1 |           1192 | 0:08         | GOAL         | PHI #19 PATRICK(1), Tip-In, Off. Zone, 30 ft.Assists: #56 GUSTAFSSON(2); #86 FARABEE(2)      | Tip-In         | Off          | PHI          | NOLAN.PATRICK      | ERIK.GUSTAFSSON2 | JOEL.FARABEE       |              0 |        -59 |         -4 |      nan |       nan |          nan |           nan | CARTER.HART        | ERIK.GUSTAFSSON2   | JAKUB.VORACEK       | JAMES.VAN RIEMSDYK  | JOEL.FARABEE        | NOLAN.PATRICK     |         nan | BRIAN.DUMOULIN    | KRIS.LETANG       | MARK.JANKOWSKI    | TEDDY.BLUEGER      | TRISTAN.JARRY     | nan             |         nan | CARTER.HART         | TRISTAN.JARRY     | PHI         | PIT         |              5 |              4 |            1 |            1 | 1v1                | 5v4                   | Off         |             30 |            30.27 |          7.59 |                3 |           17 |           3 |            94 |   0.0947739 |\n",
      "|  3 | 20202021 | 2020020001 | 2021-01-13  | R         |           239 |             2 |           1419 | 16:21        | GOAL         | PIT #87 CROSBY(1), Wrist, Off. Zone, 10 ft.                                                  | Wrist          | Off          | PIT          | SIDNEY.CROSBY      | nan              | nan                |              0 |        -79 |          4 |      nan |       nan |          nan |           nan | CARTER.HART        | IVAN.PROVOROV      | MICHAEL.RAFFL       | OSKAR.LINDBLOM      | ROBERT.HAGG         | nan               |         nan | EVGENI.MALKIN     | JAKE.GUENTZEL     | KRIS.LETANG       | MARCUS.PETTERSSON  | SIDNEY.CROSBY     | TRISTAN.JARRY   |         nan | CARTER.HART         | TRISTAN.JARRY     | PHI         | PIT         |              4 |              5 |            2 |            1 | 2v1                | 4v5                   | Def         |             10 |            10.77 |         21.8  |                1 |           24 |           4 |           115 |   0.2529    |\n",
      "|  4 | 20202021 | 2020020001 | 2021-01-13  | R         |           379 |             2 |           2334 | 1:06         | GOAL         | PHI #86 FARABEE(1), Wrist, Off. Zone, 7 ft.Assist: #13 HAYES(1)                              | Wrist          | Off          | PHI          | JOEL.FARABEE       | KEVIN.HAYES      | nan                |              0 |         83 |         -4 |      nan |       nan |          nan |           nan | CARTER.HART        | CLAUDE.GIROUX      | JOEL.FARABEE        | KEVIN.HAYES         | ROBERT.HAGG         | TRAVIS.SANHEIM    |         nan | COLTON.SCEVIOUR   | JOHN.MARINO       | MIKE.MATHESON     | SAM.LAFFERTY       | TEDDY.BLUEGER     | TRISTAN.JARRY   |         nan | CARTER.HART         | TRISTAN.JARRY     | PHI         | PIT         |              5 |              5 |            2 |            2 | 2v2                | 5v5                   | Off         |              7 |             7.21 |         33.69 |                3 |           33 |           5 |           196 |   0.186185  |\n",
      "|  5 | 20202021 | 2020020001 | 2021-01-13  | R         |           424 |             3 |           2581 | 16:59        | GOAL         | PIT #13 TANEV(1), Wrist, Off. Zone, 31 ft.Assist: #14 JANKOWSKI(1)                           | Wrist          | Off          | PIT          | BRANDON.TANEV      | MARK.JANKOWSKI   | nan                |              0 |         61 |         15 |      nan |       nan |          nan |           nan | CARTER.HART        | ERIK.GUSTAFSSON2   | JAKUB.VORACEK       | JAMES.VAN RIEMSDYK  | NOLAN.PATRICK       | TRAVIS.SANHEIM    |         nan | BRANDON.TANEV     | CODY.CECI         | JARED.MCCANN      | MARCUS.PETTERSSON  | MARK.JANKOWSKI    | TRISTAN.JARRY   |         nan | CARTER.HART         | TRISTAN.JARRY     | PHI         | PIT         |              5 |              5 |            3 |            2 | 3v2                | 5v5                   | Def         |             31 |            31.76 |         28.18 |                3 |           37 |           6 |           220 |   0.053087  |\n",
      "|  6 | 20202021 | 2020020001 | 2021-01-13  | R         |           453 |             3 |           2737 | 14:23        | GOAL         | PHI #12 RAFFL(1), Wrist, Off. Zone, 9 ft.Assists: #21 LAUGHTON(1); #62 AUBE-KUBEL(1)         | Wrist          | Off          | PHI          | MICHAEL.RAFFL      | SCOTT.LAUGHTON   | NICOLAS.AUBE-KUBEL |              0 |        -80 |          3 |      nan |       nan |          nan |           nan | CARTER.HART        | IVAN.PROVOROV      | JUSTIN.BRAUN        | MICHAEL.RAFFL       | NICOLAS.AUBE-KUBEL  | SCOTT.LAUGHTON    |         nan | EVAN.RODRIGUES    | JAKE.GUENTZEL     | JOHN.MARINO       | MIKE.MATHESON      | SIDNEY.CROSBY     | TRISTAN.JARRY   |         nan | CARTER.HART         | TRISTAN.JARRY     | PHI         | PIT         |              5 |              5 |            3 |            3 | 3v3                | 5v5                   | Off         |              9 |             9.49 |         18.43 |                1 |           40 |           6 |           233 |   0.163728  |\n",
      "|  7 | 20202021 | 2020020001 | 2021-01-13  | R         |           515 |             3 |           3134 | 7:46         | GOAL         | PHI #23 LINDBLOM(1), Backhand, Off. Zone, 8 ft.Assists: #11 KONECNY(1); #14 COUTURIER(1)     | Backhand       | Off          | PHI          | OSKAR.LINDBLOM     | TRAVIS.KONECNY   | SEAN.COUTURIER     |              0 |        -81 |         -1 |      nan |       nan |          nan |           nan | CARTER.HART        | ERIK.GUSTAFSSON2   | OSKAR.LINDBLOM      | ROBERT.HAGG         | SEAN.COUTURIER      | TRAVIS.KONECNY    |         nan | BRANDON.TANEV     | CODY.CECI         | JARED.MCCANN      | MARCUS.PETTERSSON  | MARK.JANKOWSKI    | TRISTAN.JARRY   |         nan | CARTER.HART         | TRISTAN.JARRY     | PHI         | PIT         |              5 |              5 |            4 |            3 | 4v3                | 5v5                   | Off         |              8 |             8.06 |          7.13 |                2 |           44 |           6 |           271 |   0.200885  |\n",
      "|  8 | 20202021 | 2020020001 | 2021-01-13  | R         |           520 |             3 |           3154 | 7:26         | GOAL         | PHI #13 HAYES(1), Wrist, Off. Zone, 13 ft.Assists: #86 FARABEE(3); #28 GIROUX(1)             | Wrist          | Off          | PHI          | KEVIN.HAYES        | JOEL.FARABEE     | CLAUDE.GIROUX      |              0 |        -79 |         -9 |      nan |       nan |          nan |           nan | CARTER.HART        | CLAUDE.GIROUX      | JOEL.FARABEE        | KEVIN.HAYES         | PHILIPPE.MYERS      | TRAVIS.SANHEIM    |         nan | BRIAN.DUMOULIN    | BRYAN.RUST        | EVGENI.MALKIN     | JASON.ZUCKER       | KRIS.LETANG       | TRISTAN.JARRY   |         nan | CARTER.HART         | TRISTAN.JARRY     | PHI         | PIT         |              5 |              5 |            5 |            3 | 5v3                | 5v5                   | Off         |             13 |            13.45 |         41.99 |                2 |           45 |           6 |           273 |   0.247162  |\n",
      "|  9 | 20202021 | 2020020002 | 2021-01-13  | R         |            90 |             1 |            639 | 9:21         | GOAL         | T.B #18 PALAT(1), Wrist, Off. Zone, 21 ft.Assists: #77 HEDMAN(1); #91 STAMKOS(1)             | Wrist          | Off          | T.B          | ONDREJ.PALAT       | VICTOR.HEDMAN    | STEVEN.STAMKOS     |              0 |         68 |          0 |      nan |       nan |          nan |           nan | ALEX.KILLORN       | ANDREI.VASILEVSKIY | BRAYDEN.POINT       | ONDREJ.PALAT        | STEVEN.STAMKOS      | VICTOR.HEDMAN     |         nan | CONNOR.MURPHY     | DAVID.KAMPF       | DUNCAN.KEITH      | MALCOLM.SUBBAN     | RYAN.CARPENTER    | nan             |         nan | ANDREI.VASILEVSKIY  | MALCOLM.SUBBAN    | T.B         | CHI         |              5 |              4 |            0 |            0 | 0v0                | 5v4                   | Off         |             21 |            21    |          0    |                3 |           12 |           2 |            38 |   0.294355  |\n",
      "| 10 | 20202021 | 2020020002 | 2021-01-13  | R         |           143 |             1 |            978 | 3:42         | GOAL         | T.B #7 JOSEPH(1), Tip-In, Off. Zone, 9 ft.Assists: #17 KILLORN(1); #71 CIRELLI(1)            | Tip-In         | Off          | T.B          | MATHIEU.JOSEPH     | ALEX.KILLORN     | ANTHONY.CIRELLI    |              0 |         80 |          0 |      nan |       nan |          nan |           nan | ALEX.KILLORN       | ANDREI.VASILEVSKIY | ANTHONY.CIRELLI     | CAL.FOOTE           | MATHIEU.JOSEPH      | MIKHAIL.SERGACHEV |         nan | BRANDON.PIRRI     | CALVIN.DE HAAN    | DOMINIK.KUBALIK   | IAN.MITCHELL       | MALCOLM.SUBBAN    | PIUS.SUTER      |         nan | ANDREI.VASILEVSKIY  | MALCOLM.SUBBAN    | T.B         | CHI         |              5 |              5 |            1 |            0 | 1v0                | 5v5                   | Off         |              9 |             9    |          0    |                1 |           17 |           2 |            67 |   0.244451  |\n",
      "| 11 | 20202021 | 2020020002 | 2021-01-13  | R         |           157 |             1 |           1077 | 2:03         | GOAL         | T.B #71 CIRELLI(1), Tip-In, Off. Zone, 13 ft.Assists: #81 CERNAK(1); #17 KILLORN(2)          | Tip-In         | Off          | T.B          | ANTHONY.CIRELLI    | ERIK.CERNAK      | ALEX.KILLORN       |              0 |         83 |        -12 |      nan |       nan |          nan |           nan | ALEX.KILLORN       | ANDREI.VASILEVSKIY | ANTHONY.CIRELLI     | ERIK.CERNAK         | MATHIEU.JOSEPH      | MIKHAIL.SERGACHEV |         nan | ANDREW.SHAW       | CONNOR.MURPHY     | DUNCAN.KEITH      | LUCAS.WALLMARK     | MALCOLM.SUBBAN    | MATTIAS.JANMARK |         nan | ANDREI.VASILEVSKIY  | MALCOLM.SUBBAN    | T.B         | CHI         |              5 |              5 |            2 |            0 | 2v0                | 5v5                   | Off         |             13 |            13.42 |         63.43 |                3 |           19 |           2 |            74 |   0.0416627 |\n",
      "| 12 | 20202021 | 2020020002 | 2021-01-13  | R         |           274 |             2 |           1796 | 10:04        | GOAL         | T.B #91 STAMKOS(1), Snap, Off. Zone, 29 ft.Assists: #21 POINT(1); #77 HEDMAN(2)              | Snap           | Off          | T.B          | STEVEN.STAMKOS     | BRAYDEN.POINT    | VICTOR.HEDMAN      |              0 |        -71 |        -23 |      nan |       nan |          nan |           nan | ALEX.KILLORN       | ANDREI.VASILEVSKIY | BRAYDEN.POINT       | ONDREJ.PALAT        | STEVEN.STAMKOS      | VICTOR.HEDMAN     |         nan | CALVIN.DE HAAN    | CONNOR.MURPHY     | DAVID.KAMPF       | MALCOLM.SUBBAN     | RYAN.CARPENTER    | nan             |         nan | ANDREI.VASILEVSKIY  | MALCOLM.SUBBAN    | T.B         | CHI         |              5 |              4 |            3 |            0 | 3v0                | 5v4                   | Off         |             29 |            29.21 |         51.95 |                3 |           34 |           5 |           137 |   0.11512   |\n",
      "| 13 | 20202021 | 2020020002 | 2021-01-13  | R         |           407 |             3 |           2805 | 13:15        | GOAL         | T.B #21 POINT(1), Wrist, Off. Zone, 20 ft.Assists: #91 STAMKOS(2); #98 SERGACHEV(1)          | Wrist          | Off          | T.B          | BRAYDEN.POINT      | STEVEN.STAMKOS   | MIKHAIL.SERGACHEV  |              0 |         69 |          2 |      nan |       nan |          nan |           nan | ANDREI.VASILEVSKIY | BRAYDEN.POINT      | CAL.FOOTE           | MIKHAIL.SERGACHEV   | ONDREJ.PALAT        | STEVEN.STAMKOS    |         nan | ADAM.BOQVIST      | BRANDON.PIRRI     | DOMINIK.KUBALIK   | MALCOLM.SUBBAN     | NIKITA.ZADOROV    | PIUS.SUTER      |         nan | ANDREI.VASILEVSKIY  | MALCOLM.SUBBAN    | T.B         | CHI         |              5 |              5 |            4 |            0 | 4v0                | 5v5                   | Off         |             20 |            20.1  |          5.71 |                1 |           45 |           6 |           214 |   0.126299  |\n",
      "| 14 | 20202021 | 2020020002 | 2021-01-13  | R         |           487 |             3 |           3396 | 3:24         | GOAL         | CHI #17 STROME(1), Wrist, Off. Zone, 5 ft.Assists: #65 SHAW(1); #27 BOQVIST(1)               | Wrist          | Off          | CHI          | DYLAN.STROME       | ANDREW.SHAW      | ADAM.BOQVIST       |              0 |        -94 |          0 |      nan |       nan |          nan |           nan | ANDREI.VASILEVSKIY | BLAKE.COLEMAN      | ERIK.CERNAK         | MATHIEU.JOSEPH      | RYAN.MCDONAGH       | nan               |         nan | ADAM.BOQVIST      | ALEX.DEBRINCAT    | ANDREW.SHAW       | DYLAN.STROME       | MALCOLM.SUBBAN    | PATRICK.KANE    |         nan | ANDREI.VASILEVSKIY  | MALCOLM.SUBBAN    | T.B         | CHI         |              4 |              5 |            5 |            0 | 5v0                | 4v5                   | Def         |              5 |             5    |          0    |                1 |           55 |           7 |           255 |   0.540276  |\n",
      "| 15 | 20202021 | 2020020003 | 2021-01-13  | R         |           144 |             1 |            769 | 7:11         | GOAL         | MTL #14 SUZUKI(1), Wrist, Off. Zone, 4 ft.Assists: #92 DROUIN(1); #26 PETRY(1)               | Wrist          | Off          | MTL          | NICK.SUZUKI        | JONATHAN.DROUIN  | JEFF.PETRY         |              0 |         85 |         -2 |      nan |       nan |          nan |           nan | FREDERIK.ANDERSEN  | ILYA.MIKHEYEV      | TJ.BRODIE           | ZACH.BOGOSIAN       | ZACH.HYMAN          | nan               |         nan | CAREY.PRICE       | JEFF.PETRY        | JONATHAN.DROUIN   | NICK.SUZUKI        | SHEA.WEBER        | TYLER.TOFFOLI   |         nan | FREDERIK.ANDERSEN   | CAREY.PRICE       | TOR         | MTL         |              4 |              5 |            0 |            0 | 0v0                | 4v5                   | Def         |              4 |             4.47 |         26.57 |                1 |            9 |           2 |            73 |   0.585077  |\n",
      "| 16 | 20202021 | 2020020003 | 2021-01-13  | R         |           177 |             1 |            956 | 4:04         | GOAL         | TOR #88 NYLANDER(1), Slap, Off. Zone, 52 ft.Assists: #3 HOLL(1); #91 TAVARES(1)              | Slap           | Off          | TOR          | WILLIAM.NYLANDER   | JUSTIN.HOLL      | JOHN.TAVARES       |              0 |        -37 |          8 |      nan |       nan |          nan |           nan | FREDERIK.ANDERSEN  | JAKE.MUZZIN        | JIMMY.VESEY         | JOHN.TAVARES        | JUSTIN.HOLL         | WILLIAM.NYLANDER  |         nan | ARTTURI.LEHKONEN  | BEN.CHIAROT       | CAREY.PRICE       | JAKE.EVANS         | PAUL.BYRON        | SHEA.WEBER      |         nan | FREDERIK.ANDERSEN   | CAREY.PRICE       | TOR         | MTL         |              5 |              5 |            0 |            1 | 0v1                | 5v5                   | Off         |             52 |            52.61 |          8.75 |                3 |           13 |           2 |            90 |   0.0230577 |\n",
      "| 17 | 20202021 | 2020020003 | 2021-01-13  | R         |           219 |             1 |           1176 | 0:24         | GOAL         | MTL #17 ANDERSON(1), Wrist, Off. Zone, 23 ft.Assists: #92 DROUIN(2); #26 PETRY(2)            | Wrist          | Off          | MTL          | JOSH.ANDERSON      | JONATHAN.DROUIN  | JEFF.PETRY         |              0 |         70 |        -13 |      nan |       nan |          nan |           nan | AUSTON.MATTHEWS    | FREDERIK.ANDERSEN  | JAKE.MUZZIN         | JUSTIN.HOLL         | MITCH.MARNER        | ZACH.HYMAN        |         nan | CAREY.PRICE       | JEFF.PETRY        | JOEL.EDMUNDSON    | JONATHAN.DROUIN    | JOSH.ANDERSON     | NICK.SUZUKI     |         nan | FREDERIK.ANDERSEN   | CAREY.PRICE       | TOR         | MTL         |              5 |              5 |            1 |            1 | 1v1                | 5v5                   | Def         |             23 |            23.02 |         34.38 |                1 |           15 |           2 |           114 |   0.0396943 |\n",
      "| 18 | 20202021 | 2020020003 | 2021-01-13  | R         |           305 |             2 |           1640 | 12:40        | GOAL         | MTL #90 TATAR(1), Wrist, Off. Zone, 22 ft.Assists: #27 ROMANOV(1); #6 WEBER(1)               | Wrist          | Off          | MTL          | TOMAS.TATAR        | ALEX.ROMANOV     | SHEA.WEBER         |              0 |        -67 |          1 |      nan |       nan |          nan |           nan | FREDERIK.ANDERSEN  | JIMMY.VESEY        | JUSTIN.HOLL         | TJ.BRODIE           | ZACH.HYMAN          | nan               |         nan | ALEX.ROMANOV      | BRENDAN.GALLAGHER | CAREY.PRICE       | JESPERI.KOTKANIEMI | JOSH.ANDERSON     | TOMAS.TATAR     |         nan | FREDERIK.ANDERSEN   | CAREY.PRICE       | TOR         | MTL         |              4 |              5 |            1 |            2 | 1v2                | 4v5                   | Def         |             22 |            22.02 |          2.6  |                1 |           23 |           3 |           158 |   0.117504  |\n",
      "| 19 | 20202021 | 2020020003 | 2021-01-13  | R         |           416 |             2 |           2280 | 2:00         | GOAL         | TOR #88 NYLANDER(2), Wrist, Off. Zone, 21 ft.Assists: #19 SPEZZA(1); #11 HYMAN(1)            | Wrist          | Off          | TOR          | WILLIAM.NYLANDER   | JASON.SPEZZA     | ZACH.HYMAN         |              0 |         71 |         12 |      nan |       nan |          nan |           nan | FREDERIK.ANDERSEN  | JASON.SPEZZA       | JOHN.TAVARES        | TJ.BRODIE           | WILLIAM.NYLANDER    | ZACH.HYMAN        |         nan | CAREY.PRICE       | JAKE.EVANS        | JEFF.PETRY        | JOEL.EDMUNDSON     | PAUL.BYRON        | nan             |         nan | FREDERIK.ANDERSEN   | CAREY.PRICE       | TOR         | MTL         |              5 |              4 |            1 |            3 | 1v3                | 5v4                   | Off         |             21 |            21.63 |         33.69 |                3 |           36 |           7 |           209 |   0.081483  |\n",
      "| 20 | 20202021 | 2020020003 | 2021-01-13  | R         |           431 |             2 |           2361 | 0:39         | GOAL         | TOR #91 TAVARES(1), Tip-In, Off. Zone, 18 ft.Assists: #16 MARNER(1); #31 ANDERSEN(1)         | Tip-In         | Off          | TOR          | JOHN.TAVARES       | MITCH.MARNER     | FREDERIK.ANDERSEN  |              0 |         71 |          2 |      nan |       nan |          nan |           nan | AUSTON.MATTHEWS    | FREDERIK.ANDERSEN  | JOHN.TAVARES        | MITCH.MARNER        | MORGAN.RIELLY       | WILLIAM.NYLANDER  |         nan | BEN.CHIAROT       | CAREY.PRICE       | JOEL.EDMUNDSON    | PHILLIP.DANAULT    | nan               | nan             |         nan | FREDERIK.ANDERSEN   | CAREY.PRICE       | TOR         | MTL         |              5 |              3 |            2 |            3 | 2v3                | 5v3                   | Off         |             18 |            18.11 |          6.34 |                3 |           39 |           9 |           216 |   0.165451  |\n",
      "| 21 | 20202021 | 2020020003 | 2021-01-13  | R         |           457 |             3 |           2463 | 18:57        | GOAL         | MTL #17 ANDERSON(2), Wrist, Off. Zone, 9 ft.Assists: #92 DROUIN(3); #44 EDMUNDSON(1)         | Wrist          | Off          | MTL          | JOSH.ANDERSON      | JONATHAN.DROUIN  | JOEL.EDMUNDSON     |              0 |         80 |          0 |      nan |       nan |          nan |           nan | FREDERIK.ANDERSEN  | JIMMY.VESEY        | JOHN.TAVARES        | TRAVIS.DERMOTT      | WILLIAM.NYLANDER    | ZACH.BOGOSIAN     |         nan | CAREY.PRICE       | JOEL.EDMUNDSON    | JONATHAN.DROUIN   | JOSH.ANDERSON      | NICK.SUZUKI       | SHEA.WEBER      |         nan | FREDERIK.ANDERSEN   | CAREY.PRICE       | TOR         | MTL         |              5 |              5 |            3 |            3 | 3v3                | 5v5                   | Def         |              9 |             9    |          0    |                3 |           44 |           9 |           226 |   0.195299  |\n",
      "| 22 | 20202021 | 2020020003 | 2021-01-13  | R         |           559 |             3 |           3033 | 9:27         | GOAL         | TOR #26 VESEY(1), Wrist, Off. Zone, 19 ft.Assist: #88 NYLANDER(1)                            | Wrist          | Off          | TOR          | JIMMY.VESEY        | WILLIAM.NYLANDER | nan                |              0 |        -72 |         10 |      nan |       nan |          nan |           nan | FREDERIK.ANDERSEN  | JAKE.MUZZIN        | JIMMY.VESEY         | JOHN.TAVARES        | JUSTIN.HOLL         | WILLIAM.NYLANDER  |         nan | CAREY.PRICE       | JEFF.PETRY        | JOEL.EDMUNDSON    | JONATHAN.DROUIN    | JOSH.ANDERSON     | NICK.SUZUKI     |         nan | FREDERIK.ANDERSEN   | CAREY.PRICE       | TOR         | MTL         |              5 |              5 |            3 |            4 | 3v4                | 5v5                   | Off         |             19 |            19.72 |         30.47 |                3 |           53 |           9 |           279 |   0.0664434 |\n",
      "| 23 | 20202021 | 2020020003 | 2021-01-13  | R         |           690 |             4 |           3804 | 1:36         | GOAL         | TOR #44 RIELLY(1), Wrist, Off. Zone, 19 ft.Assists: #91 TAVARES(2); #34 MATTHEWS(1)          | Wrist          | Off          | TOR          | MORGAN.RIELLY      | JOHN.TAVARES     | AUSTON.MATTHEWS    |              0 |         74 |         12 |      nan |       nan |          nan |           nan | AUSTON.MATTHEWS    | FREDERIK.ANDERSEN  | JOHN.TAVARES        | MORGAN.RIELLY       | nan                 | nan               |         nan | BEN.CHIAROT       | BRENDAN.GALLAGHER | CAREY.PRICE       | PHILLIP.DANAULT    | nan               | nan             |         nan | FREDERIK.ANDERSEN   | CAREY.PRICE       | TOR         | MTL         |              3 |              3 |            4 |            4 | 4v4                | 3v3                   | Off         |             19 |            19.21 |         38.66 |                1 |           63 |           9 |           346 |   0.118145  |\n",
      "| 24 | 20202021 | 2020020004 | 2021-01-13  | R         |           151 |             1 |            932 | 4:28         | GOAL         | VAN #53 HORVAT(1), Wrist, Off. Zone, 19 ft.Assist: #70 PEARSON(1)                            | Wrist          | Off          | VAN          | BO.HORVAT          | TANNER.PEARSON   | nan                |              0 |        -70 |         -1 |      nan |       nan |          nan |           nan | ADAM.LARSSON       | CALEB.JONES        | CONNOR.MCDAVID      | MIKKO.KOSKINEN      | RYAN.NUGENT-HOPKINS | ZACK.KASSIAN      |         nan | ALEX.EDLER        | BO.HORVAT         | BRADEN.HOLTBY     | NATE.SCHMIDT       | NILS.HOGLANDER    | TANNER.PEARSON  |         nan | MIKKO.KOSKINEN      | BRADEN.HOLTBY     | EDM         | VAN         |              5 |              5 |            0 |            0 | 0v0                | 5v5                   | Def         |             19 |            19.03 |          3.01 |                3 |           13 |           2 |            80 |   0.11985   |\n",
      "| 25 | 20202021 | 2020020004 | 2021-01-13  | R         |           251 |             2 |           1539 | 14:21        | GOAL         | EDM #56 YAMAMOTO(1), Snap, Off. Zone, 24 ft.Assist: #29 DRAISAITL(1)                         | Snap           | Off          | EDM          | KAILER.YAMAMOTO    | LEON.DRAISAITL   | nan                |              0 |        -65 |          2 |      nan |       nan |          nan |           nan | DARNELL.NURSE      | DOMINIK.KAHUN      | ETHAN.BEAR          | KAILER.YAMAMOTO     | LEON.DRAISAITL      | MIKKO.KOSKINEN    |         nan | ADAM.GAUDETTE     | ANTOINE.ROUSSEL   | BRADEN.HOLTBY     | OLLI.JUOLEVI       | TYLER.MYERS       | ZACK.MACEWEN    |         nan | MIKKO.KOSKINEN      | BRADEN.HOLTBY     | EDM         | VAN         |              5 |              5 |            0 |            1 | 0v1                | 5v5                   | Off         |             24 |            24.08 |          4.76 |                1 |           21 |           2 |           134 |   0.15117   |\n",
      "| 26 | 20202021 | 2020020004 | 2021-01-13  | R         |           367 |             2 |           2239 | 2:41         | GOAL         | VAN #36 HOGLANDER(1), Wrist, Off. Zone, 10 ft.Assists: #70 PEARSON(2); #53 HORVAT(1)         | Wrist          | Off          | VAN          | NILS.HOGLANDER     | TANNER.PEARSON   | BO.HORVAT          |              0 |         80 |          5 |      nan |       nan |          nan |           nan | ALEX.CHIASSON      | DARNELL.NURSE      | ETHAN.BEAR          | JUJHAR.KHAIRA       | MIKKO.KOSKINEN      | TYLER.ENNIS       |         nan | ALEX.EDLER        | BO.HORVAT         | BRADEN.HOLTBY     | NATE.SCHMIDT       | NILS.HOGLANDER    | TANNER.PEARSON  |         nan | MIKKO.KOSKINEN      | BRADEN.HOLTBY     | EDM         | VAN         |              5 |              5 |            1 |            1 | 1v1                | 5v5                   | Def         |             10 |            10.3  |         29.05 |                3 |           34 |           3 |           185 |   0.252633  |\n",
      "| 27 | 20202021 | 2020020004 | 2021-01-13  | R         |           399 |             3 |           2410 | 19:50        | GOAL         | EDM #25 NURSE(1), Snap, Off. Zone, 17 ft.Assists: #44 KASSIAN(1); #74 BEAR(1)                | Snap           | Off          | EDM          | DARNELL.NURSE      | ZACK.KASSIAN     | ETHAN.BEAR         |              0 |         72 |          4 |      nan |       nan |          nan |           nan | CONNOR.MCDAVID     | DARNELL.NURSE      | ETHAN.BEAR          | MIKKO.KOSKINEN      | RYAN.NUGENT-HOPKINS | ZACK.KASSIAN      |         nan | ALEX.EDLER        | BO.HORVAT         | BRADEN.HOLTBY     | NATE.SCHMIDT       | TANNER.PEARSON    | TRAVIS.HAMONIC  |         nan | MIKKO.KOSKINEN      | BRADEN.HOLTBY     | EDM         | VAN         |              5 |              5 |            1 |            2 | 1v2                | 5v5                   | Off         |             17 |            17.46 |         13.24 |                2 |           38 |           4 |           198 |   0.149909  |\n",
      "| 28 | 20202021 | 2020020004 | 2021-01-13  | R         |           419 |             3 |           2513 | 18:07        | GOAL         | VAN #96 GAUDETTE(1), Slap, Off. Zone, 26 ft.Assists: #26 ROUSSEL(1); #27 HAMONIC(1)          | Slap           | Off          | VAN          | ADAM.GAUDETTE      | ANTOINE.ROUSSEL  | TRAVIS.HAMONIC     |              0 |        -63 |          3 |      nan |       nan |          nan |           nan | ADAM.LARSSON       | CALEB.JONES        | JESSE.PULJUJARVI    | JOSH.ARCHIBALD      | KYLE.TURRIS         | MIKKO.KOSKINEN    |         nan | ADAM.GAUDETTE     | ANTOINE.ROUSSEL   | BRADEN.HOLTBY     | OLLI.JUOLEVI       | TRAVIS.HAMONIC    | ZACK.MACEWEN    |         nan | MIKKO.KOSKINEN      | BRADEN.HOLTBY     | EDM         | VAN         |              5 |              5 |            2 |            2 | 2v2                | 5v5                   | Def         |             26 |            26.17 |          6.58 |                1 |           41 |           4 |           207 |   0.134875  |\n",
      "| 29 | 20202021 | 2020020004 | 2021-01-13  | R         |           437 |             3 |           2624 | 16:16        | GOAL         | VAN #6 BOESER(1), Wrist, Off. Zone, 21 ft.Assist: #43 HUGHES(1)                              | Wrist          | Off          | VAN          | BROCK.BOESER       | QUINN.HUGHES     | nan                |              0 |        -68 |         -3 |      nan |       nan |          nan |           nan | ADAM.LARSSON       | CALEB.JONES        | DOMINIK.KAHUN       | KAILER.YAMAMOTO     | LEON.DRAISAITL      | MIKKO.KOSKINEN    |         nan | BRADEN.HOLTBY     | BROCK.BOESER      | ELIAS.PETTERSSON  | QUINN.HUGHES       | TRAVIS.HAMONIC    | TYLER.MOTTE     |         nan | MIKKO.KOSKINEN      | BRADEN.HOLTBY     | EDM         | VAN         |              5 |              5 |            2 |            3 | 2v3                | 5v5                   | Def         |             21 |            21.21 |          8.13 |                1 |           43 |           4 |           215 |   0.140676  |\n",
      "| 30 | 20202021 | 2020020004 | 2021-01-13  | R         |           481 |             3 |           2898 | 11:42        | GOAL         | EDM #6 LARSSON(1), Slap, Off. Zone, 43 ft.Assists: #82 JONES(1); #21 KAHUN(1)                | Slap           | Off          | EDM          | ADAM.LARSSON       | CALEB.JONES      | DOMINIK.KAHUN      |              0 |         50 |         20 |      nan |       nan |          nan |           nan | ADAM.LARSSON       | CALEB.JONES        | DOMINIK.KAHUN       | KAILER.YAMAMOTO     | LEON.DRAISAITL      | MIKKO.KOSKINEN    |         nan | ALEX.EDLER        | BRADEN.HOLTBY     | BRANDON.SUTTER    | JAY.BEAGLE         | NATE.SCHMIDT      | TYLER.MOTTE     |         nan | MIKKO.KOSKINEN      | BRADEN.HOLTBY     | EDM         | VAN         |              5 |              5 |            2 |            4 | 2v4                | 5v5                   | Off         |             43 |            43.83 |         27.15 |                1 |           46 |           4 |           242 |   0.0280471 |\n",
      "| 31 | 20202021 | 2020020004 | 2021-01-13  | R         |           539 |             3 |           3226 | 6:14         | GOAL         | VAN #6 BOESER(2), Wrist, Off. Zone, 22 ft.Assists: #40 PETTERSSON(1); #43 HUGHES(2)          | Wrist          | Off          | VAN          | BROCK.BOESER       | ELIAS.PETTERSSON | QUINN.HUGHES       |              0 |        -70 |         12 |      nan |       nan |          nan |           nan | CONNOR.MCDAVID     | MIKKO.KOSKINEN     | RYAN.NUGENT-HOPKINS | SLATER.KOEKKOEK     | TYSON.BARRIE        | ZACK.KASSIAN      |         nan | BRADEN.HOLTBY     | BROCK.BOESER      | ELIAS.PETTERSSON  | JAKE.VIRTANEN      | QUINN.HUGHES      | TRAVIS.HAMONIC  |         nan | MIKKO.KOSKINEN      | BRADEN.HOLTBY     | EDM         | VAN         |              5 |              5 |            3 |            4 | 3v4                | 5v5                   | Def         |             22 |            22.47 |         32.28 |                1 |           51 |           4 |           272 |   0.0596479 |\n",
      "| 32 | 20202021 | 2020020005 | 2021-01-13  | R         |            54 |             1 |            295 | 15:05        | GOAL         | COL #95 BURAKOVSKY(1), Wrist, Off. Zone, 38 ft.Assists: #37 COMPHER(1); #49 GIRARD(1)        | Wrist          | Off          | COL          | ANDRE.BURAKOVSKY   | J.T..COMPHER     | SAMUEL.GIRARD      |              0 |        -57 |         21 |      nan |       nan |          nan |           nan | ANDRE.BURAKOVSKY   | BRANDON.SAAD       | J.T..COMPHER        | NAZEM.KADRI         | PHILIPP.GRUBAUER    | SAMUEL.GIRARD     |         nan | JORDAN.BINNINGTON | JUSTIN.FAULK      | MARCO.SCANDELLA   | RYAN.O'REILLY      | TYLER.BOZAK       | nan             |         nan | PHILIPP.GRUBAUER    | JORDAN.BINNINGTON | COL         | STL         |              5 |              4 |            0 |            0 | 0v0                | 5v4                   | Off         |             38 |            38.28 |         33.27 |                3 |            6 |           2 |            25 |   0.0555078 |\n",
      "| 33 | 20202021 | 2020020005 | 2021-01-13  | R         |            96 |             1 |            569 | 10:31        | GOAL         | STL #70 SUNDQVIST(1), Wrist, Off. Zone, 12 ft.Assists: #17 SCHWARTZ(1); #18 THOMAS(1)        | Wrist          | Off          | STL          | OSKAR.SUNDQVIST    | JADEN.SCHWARTZ   | ROBERT.THOMAS      |              0 |         81 |        -10 |      nan |       nan |          nan |           nan | BRANDON.SAAD       | GABRIEL.LANDESKOG  | IAN.COLE            | NAZEM.KADRI         | PHILIPP.GRUBAUER    | RYAN.GRAVES       |         nan | JADEN.SCHWARTZ    | JORDAN.BINNINGTON | JUSTIN.FAULK      | OSKAR.SUNDQVIST    | ROBERT.BORTUZZO   | ROBERT.THOMAS   |         nan | PHILIPP.GRUBAUER    | JORDAN.BINNINGTON | COL         | STL         |              5 |              5 |            1 |            0 | 1v0                | 5v5                   | Def         |             12 |            12.81 |         51.34 |                3 |            8 |           2 |            51 |   0.0742396 |\n",
      "| 34 | 20202021 | 2020020005 | 2021-01-13  | R         |           141 |             1 |            795 | 6:45         | GOAL         | STL #25 KYROU(1), Wrist, Off. Zone, 17 ft.Assists: #21 BOZAK(1); #12 SANFORD(1)              | Wrist          | Off          | STL          | JORDAN.KYROU       | TYLER.BOZAK      | ZACH.SANFORD       |              0 |         74 |          8 |      nan |       nan |          nan |           nan | BRANDON.SAAD       | CONOR.TIMMINS      | GABRIEL.LANDESKOG   | NAZEM.KADRI         | PHILIPP.GRUBAUER    | RYAN.GRAVES       |         nan | JORDAN.BINNINGTON | JORDAN.KYROU      | JUSTIN.FAULK      | MARCO.SCANDELLA    | TYLER.BOZAK       | ZACH.SANFORD    |         nan | PHILIPP.GRUBAUER    | JORDAN.BINNINGTON | COL         | STL         |              5 |              5 |            1 |            1 | 1v1                | 5v5                   | Def         |             17 |            17    |         28.07 |                1 |           14 |           2 |            71 |   0.0692827 |\n",
      "| 35 | 20202021 | 2020020005 | 2021-01-13  | R         |           470 |             3 |           2806 | 13:14        | GOAL         | STL #13 CLIFFORD(1), Wrist, Off. Zone, 25 ft.Assist: #49 BARBASHEV(1)                        | Wrist          | Off          | STL          | KYLE.CLIFFORD      | IVAN.BARBASHEV   | nan                |              0 |         64 |         -5 |      nan |       nan |          nan |           nan | BRANDON.SAAD       | CONOR.TIMMINS      | GABRIEL.LANDESKOG   | NAZEM.KADRI         | PHILIPP.GRUBAUER    | SAMUEL.GIRARD     |         nan | IVAN.BARBASHEV    | JORDAN.BINNINGTON | JUSTIN.FAULK      | KYLE.CLIFFORD      | MARCO.SCANDELLA   | SAMMY.BLAIS     |         nan | PHILIPP.GRUBAUER    | JORDAN.BINNINGTON | COL         | STL         |              5 |              5 |            1 |            2 | 1v2                | 5v5                   | Def         |             25 |            25.5  |         11.31 |                1 |           43 |           6 |           245 |   0.206418  |\n",
      "| 36 | 20202021 | 2020020005 | 2021-01-13  | R         |           535 |             3 |           3262 | 5:38         | GOAL         | STL #70 SUNDQVIST(2), Snap, Off. Zone, 7 ft.Assists: #18 THOMAS(2); #17 SCHWARTZ(2)          | Snap           | Off          | STL          | OSKAR.SUNDQVIST    | ROBERT.THOMAS    | JADEN.SCHWARTZ     |              0 |         83 |          4 |      nan |       nan |          nan |           nan | BRANDON.SAAD       | CONOR.TIMMINS      | J.T..COMPHER        | MATT.CALVERT        | PHILIPP.GRUBAUER    | SAMUEL.GIRARD     |         nan | COLTON.PARAYKO    | JADEN.SCHWARTZ    | JORDAN.BINNINGTON | OSKAR.SUNDQVIST    | ROBERT.THOMAS     | TOREY.KRUG      |         nan | PHILIPP.GRUBAUER    | JORDAN.BINNINGTON | COL         | STL         |              5 |              5 |            1 |            3 | 1v3                | 5v5                   | Def         |              7 |             7.21 |         33.69 |                2 |           51 |           6 |           281 |   0.275713  |\n",
      "| 37 | 20202021 | 2020020006 | 2021-01-14  | R         |            59 |             1 |            343 | 14:17        | GOAL         | WSH #19 BACKSTROM(1), Wrist, Off. Zone, 10 ft.Assists: #8 OVECHKIN(1); #77 OSHIE(1)          | Wrist          | Off          | WSH          | NICKLAS.BACKSTROM  | ALEX.OVECHKIN    | T.J..OSHIE         |              0 |        -81 |         -7 |      nan |       nan |          nan |           nan | BRANDON.MONTOUR    | CARTER.HUTTON      | CURTIS.LAZAR        | JEFF.SKINNER        | RASMUS.RISTOLAINEN  | RILEY.SHEAHAN     |         nan | ALEX.OVECHKIN     | BRENDEN.DILLON    | ILYA.SAMSONOV     | JUSTIN.SCHULTZ     | NICKLAS.BACKSTROM | T.J..OSHIE      |         nan | CARTER.HUTTON       | ILYA.SAMSONOV     | BUF         | WSH         |              5 |              5 |            0 |            0 | 0v0                | 5v5                   | Def         |             10 |            10.63 |         41.19 |                1 |            5 |           0 |            31 |   0.150346  |\n",
      "| 38 | 20202021 | 2020020006 | 2021-01-14  | R         |            88 |             1 |            528 | 11:12        | GOAL         | BUF #4 HALL(1), Wrist, Off. Zone, 15 ft.Assists: #68 OLOFSSON(1); #9 EICHEL(1)               | Wrist          | Off          | BUF          | TAYLOR.HALL        | VICTOR.OLOFSSON  | JACK.EICHEL        |              0 |         74 |          1 |      nan |       nan |          nan |           nan | CARTER.HUTTON      | JACK.EICHEL        | RASMUS.DAHLIN       | SAM.REINHART        | TAYLOR.HALL         | VICTOR.OLOFSSON   |         nan | CARL.HAGELIN      | ILYA.SAMSONOV     | LARS.ELLER        | NICK.JENSEN        | ZDENO.CHARA       | nan             |         nan | CARTER.HUTTON       | ILYA.SAMSONOV     | BUF         | WSH         |              5 |              4 |            0 |            1 | 0v1                | 5v4                   | Off         |             15 |            15.03 |          3.81 |                3 |            9 |           1 |            46 |   0.111372  |\n",
      "| 39 | 20202021 | 2020020006 | 2021-01-14  | R         |           103 |             1 |            633 | 9:27         | GOAL         | WSH #77 OSHIE(1), Slap, Off. Zone, 14 ft.Assists: #8 OVECHKIN(2); #74 CARLSON(1)             | Slap           | Off          | WSH          | T.J..OSHIE         | ALEX.OVECHKIN    | JOHN.CARLSON       |              0 |        -75 |          0 |      nan |       nan |          nan |           nan | CARTER.HUTTON      | CURTIS.LAZAR       | JAKE.MCCABE         | RASMUS.RISTOLAINEN  | RILEY.SHEAHAN       | nan               |         nan | ALEX.OVECHKIN     | ILYA.SAMSONOV     | JOHN.CARLSON      | NICKLAS.BACKSTROM  | RICHARD.PANIK     | T.J..OSHIE      |         nan | CARTER.HUTTON       | ILYA.SAMSONOV     | BUF         | WSH         |              4 |              5 |            1 |            1 | 1v1                | 4v5                   | Def         |             14 |            14    |          0    |                1 |           11 |           2 |            52 |   0.241085  |\n",
      "| 40 | 20202021 | 2020020006 | 2021-01-14  | R         |           258 |             2 |           1625 | 12:55        | GOAL         | WSH #74 CARLSON(1), Wrist, Off. Zone, 32 ft.Assists: #77 OSHIE(2); #19 BACKSTROM(1)          | Wrist          | Off          | WSH          | JOHN.CARLSON       | T.J..OSHIE       | NICKLAS.BACKSTROM  |              0 |         61 |        -16 |      nan |       nan |          nan |           nan | CARTER.HUTTON      | HENRI.JOKIHARJU    | JACK.EICHEL         | JAKE.MCCABE         | TAGE.THOMPSON       | TAYLOR.HALL       |         nan | ALEX.OVECHKIN     | ILYA.SAMSONOV     | JOHN.CARLSON      | NICKLAS.BACKSTROM  | T.J..OSHIE        | ZDENO.CHARA     |         nan | CARTER.HUTTON       | ILYA.SAMSONOV     | BUF         | WSH         |              5 |              5 |            1 |            2 | 1v2                | 5v5                   | Def         |             32 |            32.25 |         29.74 |                1 |           27 |           3 |           131 |   0.0455672 |\n",
      "| 41 | 20202021 | 2020020006 | 2021-01-14  | R         |           318 |             2 |           2003 | 6:37         | GOAL         | WSH #4 DILLON(1), Wrist, Off. Zone, 55 ft.Assists: #73 SHEARY(1); #20 ELLER(1)               | Wrist          | Off          | WSH          | BRENDEN.DILLON     | CONOR.SHEARY     | LARS.ELLER         |              0 |         40 |        -25 |      nan |       nan |          nan |           nan | BRANDON.MONTOUR    | CARTER.HUTTON      | ERIC.STAAL          | JAKE.MCCABE         | SAM.REINHART        | VICTOR.OLOFSSON   |         nan | BRENDEN.DILLON    | CONOR.SHEARY      | DMITRY.ORLOV      | ILYA.SAMSONOV      | LARS.ELLER        | T.J..OSHIE      |         nan | CARTER.HUTTON       | ILYA.SAMSONOV     | BUF         | WSH         |              5 |              5 |            1 |            3 | 1v3                | 5v5                   | Def         |             55 |            55.01 |         27.03 |                1 |           33 |           4 |           164 |   0.0168201 |\n",
      "| 42 | 20202021 | 2020020006 | 2021-01-14  | R         |           366 |             2 |           2326 | 1:14         | GOAL         | BUF #13 RIEDER(1), Wrap-around, Off. Zone, 6 ft.Assists: #24 COZENS(1); #19 MCCABE(1)        | Wrap-around    | Off          | BUF          | TOBIAS.RIEDER      | DYLAN.COZENS     | JAKE.MCCABE        |              0 |        -88 |          6 |      nan |       nan |          nan |           nan | CARTER.HUTTON      | CODY.EAKIN         | DYLAN.COZENS        | JAKE.MCCABE         | RASMUS.RISTOLAINEN  | TOBIAS.RIEDER     |         nan | CONOR.SHEARY      | DMITRY.ORLOV      | ILYA.SAMSONOV     | JOHN.CARLSON       | LARS.ELLER        | T.J..OSHIE      |         nan | CARTER.HUTTON       | ILYA.SAMSONOV     | BUF         | WSH         |              5 |              5 |            1 |            4 | 1v4                | 5v5                   | Off         |              6 |             6.08 |         80.54 |                3 |           38 |           4 |           185 |   0.0436357 |\n",
      "| 43 | 20202021 | 2020020006 | 2021-01-14  | R         |           387 |             3 |           2420 | 19:40        | GOAL         | BUF #19 MCCABE(1), Slap, Off. Zone, 42 ft.Assists: #9 EICHEL(2); #72 THOMPSON(1)             | Slap           | Off          | BUF          | JAKE.MCCABE        | JACK.EICHEL      | TAGE.THOMPSON      |              0 |         51 |        -18 |      nan |       nan |          nan |           nan | CARTER.HUTTON      | JACK.EICHEL        | JAKE.MCCABE         | RASMUS.RISTOLAINEN  | TAGE.THOMPSON       | TAYLOR.HALL       |         nan | ALEX.OVECHKIN     | DMITRY.ORLOV      | ILYA.SAMSONOV     | JOHN.CARLSON       | NICKLAS.BACKSTROM | T.J..OSHIE      |         nan | CARTER.HUTTON       | ILYA.SAMSONOV     | BUF         | WSH         |              5 |              5 |            2 |            4 | 2v4                | 5v5                   | Off         |             42 |            42.05 |         25.35 |                2 |           41 |           4 |           197 |   0.0262254 |\n",
      "| 44 | 20202021 | 2020020006 | 2021-01-14  | R         |           392 |             3 |           2446 | 19:14        | GOAL         | WSH #13 VRANA(1), Wrist, Off. Zone, 17 ft.                                                   | Wrist          | Off          | WSH          | JAKUB.VRANA        | nan              | nan                |              0 |        -72 |          5 |      nan |       nan |          nan |           nan | CARTER.HUTTON      | COLIN.MILLER       | ERIC.STAAL          | HENRI.JOKIHARJU     | SAM.REINHART        | VICTOR.OLOFSSON   |         nan | BRENDEN.DILLON    | EVGENY.KUZNETSOV  | ILYA.SAMSONOV     | JAKUB.VRANA        | JUSTIN.SCHULTZ    | TOM.WILSON      |         nan | CARTER.HUTTON       | ILYA.SAMSONOV     | BUF         | WSH         |              5 |              5 |            3 |            4 | 3v4                | 5v5                   | Def         |             17 |            17.72 |         16.39 |                2 |           42 |           4 |           199 |   0.254002  |\n",
      "| 45 | 20202021 | 2020020006 | 2021-01-14  | R         |           548 |             3 |           3486 | 1:54         | GOAL         | BUF #68 OLOFSSON(1), Wrist, Off. Zone, 21 ft.Assists: #4 HALL(1); #23 REINHART(1)            | Wrist          | Off          | BUF          | VICTOR.OLOFSSON    | TAYLOR.HALL      | SAM.REINHART       |              0 |         78 |        -18 |      nan |       nan |          nan |           nan | CODY.EAKIN         | JACK.EICHEL        | RASMUS.DAHLIN       | SAM.REINHART        | TAYLOR.HALL         | VICTOR.OLOFSSON   |         nan | DMITRY.ORLOV      | EVGENY.KUZNETSOV  | ILYA.SAMSONOV     | JOHN.CARLSON       | LARS.ELLER        | TOM.WILSON      |         nan | nan                 | ILYA.SAMSONOV     | BUF         | WSH         |              6 |              5 |            3 |            5 | 3v5                | Ev5                   | Off         |             21 |            21.09 |         58.57 |                2 |           53 |           7 |           289 |   0.230996  |\n",
      "| 46 | 20202021 | 2020020006 | 2021-01-14  | R         |           557 |             3 |           3537 | 1:03         | GOAL         | WSH #21 HATHAWAY(1), Wrist, Def. Zone, 126 ft.Assist: #3 JENSEN(1)                           | Wrist          | Def          | WSH          | GARNET.HATHAWAY    | NICK.JENSEN      | nan                |              0 |         33 |         32 |      nan |       nan |          nan |           nan | CODY.EAKIN         | JACK.EICHEL        | RASMUS.DAHLIN       | SAM.REINHART        | TAYLOR.HALL         | VICTOR.OLOFSSON   |         nan | CARL.HAGELIN      | GARNET.HATHAWAY   | ILYA.SAMSONOV     | NIC.DOWD           | NICK.JENSEN       | ZDENO.CHARA     |         nan | nan                 | ILYA.SAMSONOV     | BUF         | WSH         |              6 |              5 |            4 |            5 | 4v5                | Ev5                   | Off         |            126 |           126.13 |         14.7  |                2 |           55 |           7 |           294 |   0.556021  |\n",
      "| 47 | 20202021 | 2020020007 | 2021-01-14  | R         |           207 |             1 |           1060 | 2:20         | GOAL         | BOS #63 MARCHAND(1), Snap, Off. Zone, 5 ft.Assists: #46 KREJCI(1); #37 BERGERON(1)           | Snap           | Off          | BOS          | BRAD.MARCHAND      | DAVID.KREJCI     | PATRICE.BERGERON   |              0 |        -84 |         -3 |      nan |       nan |          nan |           nan | DAMON.SEVERSON     | DMITRY.KULIKOV     | KYLE.PALMIERI       | MACKENZIE.BLACKWOOD | TRAVIS.ZAJAC        | nan               |         nan | BRAD.MARCHAND     | CHARLIE.COYLE     | DAVID.KREJCI      | MATT.GRZELCYK      | PATRICE.BERGERON  | TUUKKA.RASK     |         nan | MACKENZIE.BLACKWOOD | TUUKKA.RASK       | N.J         | BOS         |              4 |              5 |            0 |            0 | 0v0                | 4v5                   | Def         |              5 |             5.83 |         30.96 |                1 |           16 |           4 |           109 |   0.241169  |\n",
      "| 48 | 20202021 | 2020020007 | 2021-01-14  | R         |           530 |             3 |           2931 | 11:09        | GOAL         | N.J #44 WOOD(1), Snap, Off. Zone, 23 ft.Assist: #86 HUGHES(1)                                | Snap           | Off          | N.J          | MILES.WOOD         | JACK.HUGHES      | nan                |              0 |         66 |          6 |      nan |       nan |          nan |           nan | JACK.HUGHES        | KYLE.PALMIERI      | MACKENZIE.BLACKWOOD | MATT.TENNYSON       | MILES.WOOD          | TY.SMITH          |         nan | CHRIS.WAGNER      | JAKE.DEBRUSK      | JEREMY.LAUZON     | KEVAN.MILLER       | SEAN.KURALY       | TUUKKA.RASK     |         nan | MACKENZIE.BLACKWOOD | TUUKKA.RASK       | N.J         | BOS         |              5 |              5 |            0 |            1 | 0v1                | 5v5                   | Off         |             23 |            23.77 |         14.62 |                1 |           40 |           8 |           286 |   0.183517  |\n",
      "| 49 | 20202021 | 2020020007 | 2021-01-14  | R         |           571 |             3 |           3192 | 6:48         | GOAL         | BOS #21 RITCHIE(1), Snap, Off. Zone, 7 ft.Assists: #63 MARCHAND(1); #48 GRZELCYK(1)          | Snap           | Off          | BOS          | NICK.RITCHIE       | BRAD.MARCHAND    | MATT.GRZELCYK      |              0 |        -83 |         -5 |      nan |       nan |          nan |           nan | DAMON.SEVERSON     | DMITRY.KULIKOV     | MACKENZIE.BLACKWOOD | PAVEL.ZACHA         | TRAVIS.ZAJAC        | nan               |         nan | BRAD.MARCHAND     | DAVID.KREJCI      | MATT.GRZELCYK     | NICK.RITCHIE       | PATRICE.BERGERON  | TUUKKA.RASK     |         nan | MACKENZIE.BLACKWOOD | TUUKKA.RASK       | N.J         | BOS         |              4 |              5 |            1 |            1 | 1v1                | 4v5                   | Def         |              7 |             7.81 |         39.81 |                3 |           45 |          10 |           310 |   0.200346  |\n"
     ]
    }
   ],
   "source": [
    "print(eh_df.head(50).to_markdown())"
   ]
  },
  {
   "cell_type": "code",
   "execution_count": 9,
   "metadata": {},
   "outputs": [],
   "source": [
    "eh_df = eh_df[eh_df['game_period'] < 5]"
   ]
  },
  {
   "cell_type": "code",
   "execution_count": 10,
   "metadata": {},
   "outputs": [],
   "source": [
    "grouped_df = eh_df.groupby('game_id')"
   ]
  },
  {
   "cell_type": "code",
   "execution_count": 11,
   "metadata": {},
   "outputs": [
    {
     "name": "stdout",
     "output_type": "stream",
     "text": [
      "season                                                          20202021\n",
      "game_id                                                       2020020001\n",
      "game_date                                                     2021-01-13\n",
      "session                                                                R\n",
      "event_index                                                          520\n",
      "game_period                                                            3\n",
      "game_seconds                                                        3154\n",
      "clock_time                                                          7:26\n",
      "event_type                                                          GOAL\n",
      "event_description      PHI #13 HAYES(1), Wrist, Off. Zone, 13 ft.Assi...\n",
      "event_detail                                                       Wrist\n",
      "event_zone                                                           Off\n",
      "event_team                                                           PHI\n",
      "event_player_1                                               KEVIN.HAYES\n",
      "event_player_2                                              JOEL.FARABEE\n",
      "event_player_3                                             CLAUDE.GIROUX\n",
      "event_length                                                           0\n",
      "coords_x                                                             -79\n",
      "coords_y                                                              -9\n",
      "num_on                                                               NaN\n",
      "num_off                                                              NaN\n",
      "players_on                                                           NaN\n",
      "players_off                                                          NaN\n",
      "home_on_1                                                    CARTER.HART\n",
      "home_on_2                                                  CLAUDE.GIROUX\n",
      "home_on_3                                                   JOEL.FARABEE\n",
      "home_on_4                                                    KEVIN.HAYES\n",
      "home_on_5                                                 PHILIPPE.MYERS\n",
      "home_on_6                                                 TRAVIS.SANHEIM\n",
      "home_on_7                                                            NaN\n",
      "away_on_1                                                 BRIAN.DUMOULIN\n",
      "away_on_2                                                     BRYAN.RUST\n",
      "away_on_3                                                  EVGENI.MALKIN\n",
      "away_on_4                                                   JASON.ZUCKER\n",
      "away_on_5                                                    KRIS.LETANG\n",
      "away_on_6                                                  TRISTAN.JARRY\n",
      "away_on_7                                                            NaN\n",
      "home_goalie                                                  CARTER.HART\n",
      "away_goalie                                                TRISTAN.JARRY\n",
      "home_team                                                            PHI\n",
      "away_team                                                            PIT\n",
      "home_skaters                                                           5\n",
      "away_skaters                                                           5\n",
      "home_score                                                             5\n",
      "away_score                                                             3\n",
      "game_score_state                                                     5v3\n",
      "game_strength_state                                                  5v5\n",
      "home_zone                                                            Off\n",
      "pbp_distance                                                          13\n",
      "event_distance                                                     13.45\n",
      "event_angle                                                        41.99\n",
      "home_zonestart                                                       2.0\n",
      "face_index                                                            45\n",
      "pen_index                                                              6\n",
      "shift_index                                                          273\n",
      "pred_goal                                                       0.247162\n",
      "Name: 8, dtype: object\n"
     ]
    }
   ],
   "source": [
    "for game, group in grouped_df:\n",
    "    print(group.iloc[-1])\n",
    "    break\n",
    "        "
   ]
  },
  {
   "cell_type": "code",
   "execution_count": 16,
   "metadata": {},
   "outputs": [],
   "source": [
    "def get_team_id(team_name):\n",
    "    eh_team_id_dict = {\n",
    "    'N.J': 1,\n",
    "    'PHI': 4,\n",
    "    'L.A': 26,\n",
    "    'T.B': 14,\n",
    "    'BOS': 6,\n",
    "    'NYR': 3,\n",
    "    'PIT': 5,\n",
    "    'DET': 17,\n",
    "    'S.J': 28,\n",
    "    'NSH': 18,\n",
    "    'VAN': 23,\n",
    "    'CHI': 16,\n",
    "    'OTT': 9,\n",
    "    'MTL': 8,\n",
    "    'MIN': 30,\n",
    "    'WSH': 15,\n",
    "    'STL': 19,\n",
    "    'ANA': 24,\n",
    "    'PHX': 27,\n",
    "    'NYI': 2,\n",
    "    'TOR': 10,\n",
    "    'FLA': 13,\n",
    "    'BUF': 7,\n",
    "    'CGY': 20,\n",
    "    'COL': 21,\n",
    "    'DAL': 25,\n",
    "    'CBJ': 29,\n",
    "    'WPG': 52,\n",
    "    'EDM': 22,\n",
    "    'VGK': 54,\n",
    "    'CAR': 12,\n",
    "    'ARI': 53,\n",
    "    'ATL': 11\n",
    "    }\n",
    "    return eh_team_id_dict[team_name]\n",
    "\n",
    "def get_final_scores(df):\n",
    "    labels = ['game_id','away_team', 'away_score', 'home_team', 'home_score', ]\n",
    "    grouped_df = df.groupby('game_id')\n",
    "    last_row = pd.concat([group.iloc[[-1]] for game, group in grouped_df], ignore_index=True).loc[:, labels]\n",
    "    last_row = last_row.rename(columns={'home_team': 'home_team_id', 'away_team': 'away_team_id'})\n",
    "    last_row['home_team_id'] = last_row['home_team_id'].apply(get_team_id)\n",
    "    last_row['away_team_id'] = last_row['away_team_id'].apply(get_team_id)\n",
    "    return last_row\n"
   ]
  },
  {
   "cell_type": "code",
   "execution_count": 17,
   "metadata": {},
   "outputs": [],
   "source": [
    "final_scores_df = get_final_scores(eh_df)"
   ]
  },
  {
   "cell_type": "code",
   "execution_count": 21,
   "metadata": {},
   "outputs": [
    {
     "name": "stdout",
     "output_type": "stream",
     "text": [
      "|    |     game_id |   away_team_id |   away_score |   home_team_id |   home_score |\n",
      "|---:|------------:|---------------:|-------------:|---------------:|-------------:|\n",
      "|  0 | 2.02002e+09 |              5 |            3 |              4 |            5 |\n",
      "|  1 | 2.02002e+09 |             16 |            0 |             14 |            5 |\n",
      "|  2 | 2.02002e+09 |              8 |            4 |             10 |            4 |\n",
      "|  3 | 2.02002e+09 |             23 |            4 |             22 |            3 |\n",
      "|  4 | 2.02002e+09 |             19 |            3 |             21 |            1 |\n",
      "|  5 | 2.02002e+09 |             15 |            5 |              7 |            4 |\n",
      "|  6 | 2.02002e+09 |              6 |            2 |              1 |            1 |\n",
      "|  7 | 2.02002e+09 |              2 |            3 |              3 |            0 |\n",
      "|  8 | 2.02002e+09 |             25 |            1 |             13 |            2 |\n",
      "|  9 | 2.02002e+09 |             12 |            2 |             17 |            0 |\n"
     ]
    }
   ],
   "source": [
    "print(final_scores_df.head(10).to_markdown())"
   ]
  },
  {
   "cell_type": "code",
   "execution_count": 20,
   "metadata": {},
   "outputs": [],
   "source": [
    "# TODO: over EH data files (or add them together)\n",
    "# TODO: merge with other file"
   ]
  }
 ],
 "metadata": {
  "kernelspec": {
   "display_name": "hockey",
   "language": "python",
   "name": "python3"
  },
  "language_info": {
   "codemirror_mode": {
    "name": "ipython",
    "version": 3
   },
   "file_extension": ".py",
   "mimetype": "text/x-python",
   "name": "python",
   "nbconvert_exporter": "python",
   "pygments_lexer": "ipython3",
   "version": "3.10.10"
  },
  "orig_nbformat": 4
 },
 "nbformat": 4,
 "nbformat_minor": 2
}
