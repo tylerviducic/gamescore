{
 "cells": [
  {
   "cell_type": "code",
   "execution_count": 72,
   "metadata": {},
   "outputs": [],
   "source": [
    "# TODO: add score of game as the target variable - should be all-strength on-ice goals for + off ice all strength goals for  - all-strength on-ice goals against - off ice all strength goals against\n",
    "# TODO: add 19-20 data to the goal differential dataset"
   ]
  },
  {
   "cell_type": "code",
   "execution_count": 61,
   "metadata": {},
   "outputs": [],
   "source": [
    "# notebook for scraping a player's career data from MoneyPuck.com\n",
    "import pandas as pd\n",
    "import numpy as np\n",
    "import matplotlib.pyplot as plt\n",
    "import requests"
   ]
  },
  {
   "cell_type": "code",
   "execution_count": 62,
   "metadata": {},
   "outputs": [],
   "source": [
    "team_id_dict = {\n",
    "    'NJD': 1,\n",
    "    'PHI': 4,\n",
    "    'LAK': 26,\n",
    "    'TBL': 14,\n",
    "    'BOS': 6,\n",
    "    'NYR': 3,\n",
    "    'PIT': 5,\n",
    "    'DET': 17,\n",
    "    'SJS': 28,\n",
    "    'NSH': 18,\n",
    "    'VAN': 23,\n",
    "    'CHI': 16,\n",
    "    'OTT': 9,\n",
    "    'MTL': 8,\n",
    "    'MIN': 30,\n",
    "    'WSH': 15,\n",
    "    'STL': 19,\n",
    "    'ANA': 24,\n",
    "    'PHX': 27,\n",
    "    'NYI': 2,\n",
    "    'TOR': 10,\n",
    "    'FLA': 13,\n",
    "    'BUF': 7,\n",
    "    'CGY': 20,\n",
    "    'COL': 21,\n",
    "    'DAL': 25,\n",
    "    'CBJ': 29,\n",
    "    'WPG': 52,\n",
    "    'EDM': 22,\n",
    "    'VGK': 54,\n",
    "    'CAR': 12,\n",
    "    'ARI': 53,\n",
    "    'ATL': 11\n",
    "}\n",
    "\n",
    "game_df = pd.read_csv('/Users/tylerviducic/dev/hockey_analytics/gamescore_model/kaggle_data/game.csv')\n",
    "team_stats_df = pd.read_csv('/Users/tylerviducic/dev/hockey_analytics/gamescore_model/kaggle_data/game_teams_stats.csv')\n"
   ]
  },
  {
   "cell_type": "code",
   "execution_count": 63,
   "metadata": {},
   "outputs": [],
   "source": [
    "# clean the player's data\n",
    "# 8471675 = Sidney Crosby\n",
    "# 8481559 = Jack Hughes\n",
    "\n",
    "player_df = pd.read_csv('/Users/tylerviducic/dev/hockey_analytics/gamescore_model/mp_data/8471675.csv')\n",
    "# print(player_df.to_markdown())\n",
    "column_list = player_df.columns.to_list()\n",
    "goal_col = [col for col in column_list if 'goal'in col or 'Goal' in col]\n",
    "# print(goal_col)\n",
    "max_len = max([len(x) for x in goal_col])\n",
    "# print(max_len)\n",
    "for i, col in enumerate(goal_col):\n",
    "    end = '\\n'\n",
    "    if (i+1) % 4 != 0:\n",
    "        end = '|'\n",
    "    line = f' {col} ' + (' ' * (max_len - len(col)))\n",
    "    # print(line, end=end)\n",
    "\n"
   ]
  },
  {
   "cell_type": "code",
   "execution_count": 64,
   "metadata": {},
   "outputs": [],
   "source": [
    "bio_labels = ['playerId', 'season', 'name', 'gameId', 'playerTeam', 'opposingTeam', 'home_or_away', 'gameDate', 'position']\n",
    "individual_skater_labels = ['icetime', 'shifts', 'gameScore', 'iceTimeRank', 'I_F_xOnGoal', 'I_F_xGoals', 'I_F_xRebounds', 'I_F_xFreeze', 'I_F_xPlayStopped', 'I_F_xPlayContinuedInZone', 'I_F_xPlayContinuedOutsideZone', 'I_F_flurryAdjustedxGoals', 'I_F_scoreVenueAdjustedxGoals', 'I_F_flurryScoreVenueAdjustedxGoals', 'I_F_primaryAssists', 'I_F_secondaryAssists', 'I_F_shotsOnGoal', 'I_F_missedShots', 'I_F_blockedShotAttempts', 'I_F_shotAttempts', 'I_F_points', 'I_F_goals', 'I_F_rebounds', 'I_F_reboundGoals', 'I_F_freeze', 'I_F_playStopped', 'I_F_playContinuedInZone', 'I_F_playContinuedOutsideZone', 'I_F_savedShotsOnGoal', 'I_F_savedUnblockedShotAttempts', 'penalties', 'I_F_penalityMinutes', 'I_F_faceOffsWon', 'I_F_hits', 'I_F_takeaways', 'I_F_giveaways', 'I_F_lowDangerShots', 'I_F_mediumDangerShots', 'I_F_highDangerShots', 'I_F_lowDangerxGoals', 'I_F_mediumDangerxGoals', 'I_F_highDangerxGoals', 'I_F_lowDangerGoals', 'I_F_mediumDangerGoals', 'I_F_highDangerGoals', 'I_F_scoreAdjustedShotsAttempts', 'I_F_unblockedShotAttempts', 'I_F_scoreAdjustedUnblockedShotAttempts', 'I_F_dZoneGiveaways', 'I_F_xGoalsFromxReboundsOfShots', 'I_F_xGoalsFromActualReboundsOfShots', 'I_F_reboundxGoals', 'I_F_xGoals_with_earned_rebounds', 'I_F_xGoals_with_earned_rebounds_scoreAdjusted', 'I_F_xGoals_with_earned_rebounds_scoreFlurryAdjusted', 'I_F_shifts', 'I_F_oZoneShiftStarts', 'I_F_dZoneShiftStarts', 'I_F_neutralZoneShiftStarts', 'I_F_flyShiftStarts', 'I_F_oZoneShiftEnds', 'I_F_dZoneShiftEnds', 'I_F_neutralZoneShiftEnds', 'I_F_flyShiftEnds', 'faceoffsWon', 'faceoffsLost', 'timeOnBench', 'penalityMinutes', 'penalityMinutesDrawn', 'penaltiesDrawn', 'shotsBlockedByPlayer']\n",
    "on_ice_skater_labels = ['OnIce_F_xOnGoal', 'OnIce_F_xGoals', 'OnIce_F_flurryAdjustedxGoals', 'OnIce_F_scoreVenueAdjustedxGoals', 'OnIce_F_flurryScoreVenueAdjustedxGoals', 'OnIce_F_shotsOnGoal', 'OnIce_F_missedShots', 'OnIce_F_blockedShotAttempts', 'OnIce_F_shotAttempts', 'OnIce_F_goals', 'OnIce_F_rebounds', 'OnIce_F_reboundGoals', 'OnIce_F_lowDangerShots', 'OnIce_F_mediumDangerShots', 'OnIce_F_highDangerShots', 'OnIce_F_lowDangerxGoals', 'OnIce_F_mediumDangerxGoals', 'OnIce_F_highDangerxGoals', 'OnIce_F_lowDangerGoals', 'OnIce_F_mediumDangerGoals', 'OnIce_F_highDangerGoals', 'OnIce_F_scoreAdjustedShotsAttempts', 'OnIce_F_unblockedShotAttempts', 'OnIce_F_scoreAdjustedUnblockedShotAttempts', 'OnIce_F_xGoalsFromxReboundsOfShots', 'OnIce_F_xGoalsFromActualReboundsOfShots', 'OnIce_F_reboundxGoals', 'OnIce_F_xGoals_with_earned_rebounds', 'OnIce_F_xGoals_with_earned_rebounds_scoreAdjusted', 'OnIce_F_xGoals_with_earned_rebounds_scoreFlurryAdjusted', 'OnIce_A_xOnGoal', 'OnIce_A_xGoals', 'OnIce_A_flurryAdjustedxGoals', 'OnIce_A_scoreVenueAdjustedxGoals', 'OnIce_A_flurryScoreVenueAdjustedxGoals', 'OnIce_A_shotsOnGoal', 'OnIce_A_missedShots', 'OnIce_A_blockedShotAttempts', 'OnIce_A_shotAttempts', 'OnIce_A_goals', 'OnIce_A_rebounds', 'OnIce_A_reboundGoals', 'OnIce_A_lowDangerShots', 'OnIce_A_mediumDangerShots', 'OnIce_A_highDangerShots', 'OnIce_A_lowDangerxGoals', 'OnIce_A_mediumDangerxGoals', 'OnIce_A_highDangerxGoals', 'OnIce_A_lowDangerGoals', 'OnIce_A_mediumDangerGoals', 'OnIce_A_highDangerGoals', 'OnIce_A_scoreAdjustedShotsAttempts', 'OnIce_A_unblockedShotAttempts', 'OnIce_A_scoreAdjustedUnblockedShotAttempts', 'OnIce_A_xGoalsFromxReboundsOfShots', 'OnIce_A_xGoalsFromActualReboundsOfShots', 'OnIce_A_reboundxGoals', 'OnIce_A_xGoals_with_earned_rebounds', 'OnIce_A_xGoals_with_earned_rebounds_scoreAdjusted', 'OnIce_A_xGoals_with_earned_rebounds_scoreFlurryAdjusted']\n",
    "all_strength_labels = bio_labels + individual_skater_labels"
   ]
  },
  {
   "cell_type": "code",
   "execution_count": 65,
   "metadata": {},
   "outputs": [],
   "source": [
    "grouped_df = player_df.groupby('gameId')"
   ]
  },
  {
   "cell_type": "code",
   "execution_count": 66,
   "metadata": {},
   "outputs": [],
   "source": [
    "# TODO: make this player team agnostic\n",
    "def get_score_of_game(game_id, team, team_id_dict=None, game_df=None, team_stats_df=None):\n",
    "    \"\"\"\n",
    "    returns the score of a game id if it ended in regulation\n",
    "    return order is home score, away score\n",
    "    \"\"\"\n",
    "    if game_df is None:\n",
    "        game_df = pd.read_csv('/Users/tylerviducic/dev/hockey_analytics/gamescore_model/kaggle_data/game.csv')\n",
    "    if team_stats_df is None:\n",
    "        team_stats_df = pd.read_csv('/Users/tylerviducic/dev/hockey_analytics/gamescore_model/kaggle_data/game_teams_stats.csv')\n",
    "    if team_id_dict is None:\n",
    "        team_id_dict = {\n",
    "        'NJD': 1,\n",
    "        'PHI': 4,\n",
    "        'LAK': 26,\n",
    "        'TBL': 14,\n",
    "        'BOS': 6,\n",
    "        'NYR': 3,\n",
    "        'PIT': 5,\n",
    "        'DET': 17,\n",
    "        'SJS': 28,\n",
    "        'NSH': 18,\n",
    "        'VAN': 23,\n",
    "        'CHI': 16,\n",
    "        'OTT': 9,\n",
    "        'MTL': 8,\n",
    "        'MIN': 30,\n",
    "        'WSH': 15,\n",
    "        'STL': 19,\n",
    "        'ANA': 24,\n",
    "        'PHX': 27,\n",
    "        'NYI': 2,\n",
    "        'TOR': 10,\n",
    "        'FLA': 13,\n",
    "        'BUF': 7,\n",
    "        'CGY': 20,\n",
    "        'COL': 21,\n",
    "        'DAL': 25,\n",
    "        'CBJ': 29,\n",
    "        'WPG': 52,\n",
    "        'EDM': 22,\n",
    "        'VGK': 54,\n",
    "        'CAR': 12,\n",
    "        'ARI': 53,\n",
    "        'ATL': 11\n",
    "        }\n",
    "    team_id = team_id_dict[team]\n",
    "    game = game_df.loc[game_df.game_id == game_id]\n",
    "    if len(game.outcome) == 0:\n",
    "        print(f'gameId with no outcome: {game_id}')\n",
    "        return None, None\n",
    "    outcome = game.outcome.values[0].split(' ')[-1]\n",
    "    if outcome == 'OT':        \n",
    "        game = team_stats_df.loc[team_stats_df.game_id == game_id]\n",
    "        players_team = game.loc[game.team_id == team_id]\n",
    "        opponent_team = game.loc[game.team_id != team_id]\n",
    "        player_team_score = players_team.goals.values[0]\n",
    "        opponent_team_score = opponent_team.goals.values[0]\n",
    "        if players_team.HoA.values[0] == 'away':\n",
    "            return opponent_team_score, player_team_score\n",
    "        else:\n",
    "            return player_team_score, opponent_team_score\n",
    "    else:\n",
    "        home_score = game.home_goals.values[0]\n",
    "        away_score = game.away_goals.values[0]\n",
    "        return home_score, away_score\n",
    "\n",
    "\n",
    "def reduce_df(grouped_df):\n",
    "    all_strength_df = pd.concat([group.loc[group['situation'] == 'all', all_strength_labels].reset_index(drop=True) for game, group in grouped_df])\n",
    "    oi_5v5_frames_df = pd.concat([group.loc[group['situation'] == '5on5', on_ice_skater_labels].reset_index(drop=True) for game, group in grouped_df])\n",
    "    reduced_df = pd.concat([all_strength_df, oi_5v5_frames_df], axis=1)\n",
    "    reduced_df[['home_score', 'away_score']] = reduced_df.apply(lambda row: get_score_of_game(row['gameId'], row['playerTeam'], team_id_dict=team_id_dict, game_df=game_df, team_stats_df=team_stats_df), axis=1)\n",
    "    return "
   ]
  },
  {
   "cell_type": "code",
   "execution_count": 71,
   "metadata": {},
   "outputs": [
    {
     "ename": "TypeError",
     "evalue": "'bool' object is not callable",
     "output_type": "error",
     "traceback": [
      "\u001b[0;31m---------------------------------------------------------------------------\u001b[0m",
      "\u001b[0;31mTypeError\u001b[0m                                 Traceback (most recent call last)",
      "\u001b[1;32m/Users/tylerviducic/dev/hockey_analytics/gamescore_model/scripts/scrape_player_career.ipynb Cell 8\u001b[0m line \u001b[0;36m1\n\u001b[1;32m      <a href='vscode-notebook-cell:/Users/tylerviducic/dev/hockey_analytics/gamescore_model/scripts/scrape_player_career.ipynb#X10sZmlsZQ%3D%3D?line=0'>1</a>\u001b[0m \u001b[39m# def reduce_df(grouped_df):\u001b[39;00m\n\u001b[1;32m      <a href='vscode-notebook-cell:/Users/tylerviducic/dev/hockey_analytics/gamescore_model/scripts/scrape_player_career.ipynb#X10sZmlsZQ%3D%3D?line=1'>2</a>\u001b[0m \u001b[39m#     all_strength_df = pd.concat([group.loc[group['situation'] == 'all', all_strength_labels].reset_index(drop=True) for game, group in grouped_df])\u001b[39;00m\n\u001b[1;32m      <a href='vscode-notebook-cell:/Users/tylerviducic/dev/hockey_analytics/gamescore_model/scripts/scrape_player_career.ipynb#X10sZmlsZQ%3D%3D?line=2'>3</a>\u001b[0m \u001b[39m#     oi_5v5_frames_df = pd.concat([group.loc[group['situation'] == '5on5', individual_skater_labels].reset_index(drop=True) for game, group in grouped_df])\u001b[39;00m\n\u001b[0;32m   (...)\u001b[0m\n\u001b[1;32m      <a href='vscode-notebook-cell:/Users/tylerviducic/dev/hockey_analytics/gamescore_model/scripts/scrape_player_career.ipynb#X10sZmlsZQ%3D%3D?line=6'>7</a>\u001b[0m \u001b[39m#     reduced_df[['home_score', 'away_score']] = reduced_df.apply(lambda row: get_score_of_game(row['gameId'], row['playerTeam']), axis=1, result_type='expand')\u001b[39;00m\n\u001b[1;32m      <a href='vscode-notebook-cell:/Users/tylerviducic/dev/hockey_analytics/gamescore_model/scripts/scrape_player_career.ipynb#X10sZmlsZQ%3D%3D?line=7'>8</a>\u001b[0m \u001b[39m#     return reduced_df\u001b[39;00m\n\u001b[0;32m---> <a href='vscode-notebook-cell:/Users/tylerviducic/dev/hockey_analytics/gamescore_model/scripts/scrape_player_career.ipynb#X10sZmlsZQ%3D%3D?line=9'>10</a>\u001b[0m \u001b[39mprint\u001b[39m(grouped_df\u001b[39m.\u001b[39;49mgroup_keys())\n\u001b[1;32m     <a href='vscode-notebook-cell:/Users/tylerviducic/dev/hockey_analytics/gamescore_model/scripts/scrape_player_career.ipynb#X10sZmlsZQ%3D%3D?line=10'>11</a>\u001b[0m reduced_df \u001b[39m=\u001b[39m reduce_df(grouped_df)\n\u001b[1;32m     <a href='vscode-notebook-cell:/Users/tylerviducic/dev/hockey_analytics/gamescore_model/scripts/scrape_player_career.ipynb#X10sZmlsZQ%3D%3D?line=11'>12</a>\u001b[0m \u001b[39mprint\u001b[39m(reduced_df\u001b[39m.\u001b[39mhead()\u001b[39m.\u001b[39mto_markdown())\n",
      "\u001b[0;31mTypeError\u001b[0m: 'bool' object is not callable"
     ]
    }
   ],
   "source": [
    "reduced_df = reduce_df(grouped_df)\n",
    "print(reduced_df.head().to_markdown())"
   ]
  }
 ],
 "metadata": {
  "kernelspec": {
   "display_name": "hockey",
   "language": "python",
   "name": "python3"
  },
  "language_info": {
   "codemirror_mode": {
    "name": "ipython",
    "version": 3
   },
   "file_extension": ".py",
   "mimetype": "text/x-python",
   "name": "python",
   "nbconvert_exporter": "python",
   "pygments_lexer": "ipython3",
   "version": "3.10.10"
  },
  "orig_nbformat": 4
 },
 "nbformat": 4,
 "nbformat_minor": 2
}
